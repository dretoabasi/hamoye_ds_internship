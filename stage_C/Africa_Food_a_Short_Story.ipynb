{
 "cells": [
  {
   "cell_type": "markdown",
   "metadata": {},
   "source": [
    "* **Title**: Africa Food programme - A Short Story\n",
    "* **Audience**: \n",
    "    * Hamoye Internship Instructors (Data Storytelling track)\n",
    "    * Data Scientists\n",
    "    * Fellow Interns"
   ]
  },
  {
   "cell_type": "code",
   "execution_count": 1,
   "metadata": {},
   "outputs": [],
   "source": [
    "import pandas as pd\n",
    "from scipy import stats\n",
    "import numpy as np\n",
    "\n",
    "import matplotlib.pyplot as plt\n",
    "import seaborn as sns"
   ]
  },
  {
   "cell_type": "code",
   "execution_count": 2,
   "metadata": {},
   "outputs": [],
   "source": [
    "prod = pd.read_csv(\"https://www.wolframcloud.com/obj/mar/Hamoye/Session%202/Data/Africa%20Food%20Production%20(2004%20-%202013).csv\",\n",
    "                   error_bad_lines = False\n",
    "                  )\n",
    "\n",
    "supply = pd.read_csv(\"https://www.wolframcloud.com/obj/mar/Hamoye/Session%202/Data/Africa%20Food%20Supply%20(2004%20-%202013).csv\",\n",
    "                     error_bad_lines = False\n",
    "                    )"
   ]
  },
  {
   "cell_type": "code",
   "execution_count": 3,
   "metadata": {
    "scrolled": true
   },
   "outputs": [
    {
     "data": {
      "text/html": [
       "<div>\n",
       "<style scoped>\n",
       "    .dataframe tbody tr th:only-of-type {\n",
       "        vertical-align: middle;\n",
       "    }\n",
       "\n",
       "    .dataframe tbody tr th {\n",
       "        vertical-align: top;\n",
       "    }\n",
       "\n",
       "    .dataframe thead th {\n",
       "        text-align: right;\n",
       "    }\n",
       "</style>\n",
       "<table border=\"1\" class=\"dataframe\">\n",
       "  <thead>\n",
       "    <tr style=\"text-align: right;\">\n",
       "      <th></th>\n",
       "      <th>Country</th>\n",
       "      <th>2004</th>\n",
       "      <th>2005</th>\n",
       "      <th>2006</th>\n",
       "      <th>2007</th>\n",
       "      <th>2008</th>\n",
       "      <th>2009</th>\n",
       "      <th>2010</th>\n",
       "      <th>2011</th>\n",
       "      <th>2012</th>\n",
       "      <th>2013</th>\n",
       "    </tr>\n",
       "  </thead>\n",
       "  <tbody>\n",
       "    <tr>\n",
       "      <th>0</th>\n",
       "      <td>Burundi</td>\n",
       "      <td>7131.688</td>\n",
       "      <td>7364.857</td>\n",
       "      <td>7607.850</td>\n",
       "      <td>7862.226</td>\n",
       "      <td>8126.104</td>\n",
       "      <td>8397.661</td>\n",
       "      <td>8675.606</td>\n",
       "      <td>8958.406</td>\n",
       "      <td>9245.992</td>\n",
       "      <td>9540.302</td>\n",
       "    </tr>\n",
       "    <tr>\n",
       "      <th>1</th>\n",
       "      <td>Comoros</td>\n",
       "      <td>597.230</td>\n",
       "      <td>611.625</td>\n",
       "      <td>626.427</td>\n",
       "      <td>641.624</td>\n",
       "      <td>657.227</td>\n",
       "      <td>673.251</td>\n",
       "      <td>689.696</td>\n",
       "      <td>706.578</td>\n",
       "      <td>723.865</td>\n",
       "      <td>741.511</td>\n",
       "    </tr>\n",
       "    <tr>\n",
       "      <th>2</th>\n",
       "      <td>Djibouti</td>\n",
       "      <td>771.599</td>\n",
       "      <td>783.248</td>\n",
       "      <td>794.554</td>\n",
       "      <td>805.456</td>\n",
       "      <td>816.361</td>\n",
       "      <td>827.820</td>\n",
       "      <td>840.194</td>\n",
       "      <td>853.671</td>\n",
       "      <td>868.136</td>\n",
       "      <td>883.296</td>\n",
       "    </tr>\n",
       "    <tr>\n",
       "      <th>3</th>\n",
       "      <td>Eritrea</td>\n",
       "      <td>2719.809</td>\n",
       "      <td>2826.653</td>\n",
       "      <td>2918.209</td>\n",
       "      <td>2996.540</td>\n",
       "      <td>3062.782</td>\n",
       "      <td>3119.920</td>\n",
       "      <td>3170.437</td>\n",
       "      <td>3213.969</td>\n",
       "      <td>3250.104</td>\n",
       "      <td>3281.453</td>\n",
       "    </tr>\n",
       "    <tr>\n",
       "      <th>4</th>\n",
       "      <td>Ethiopia</td>\n",
       "      <td>74239.508</td>\n",
       "      <td>76346.310</td>\n",
       "      <td>78489.205</td>\n",
       "      <td>80674.343</td>\n",
       "      <td>82916.236</td>\n",
       "      <td>85233.923</td>\n",
       "      <td>87639.962</td>\n",
       "      <td>90139.928</td>\n",
       "      <td>92726.982</td>\n",
       "      <td>95385.793</td>\n",
       "    </tr>\n",
       "  </tbody>\n",
       "</table>\n",
       "</div>"
      ],
      "text/plain": [
       "    Country       2004       2005       2006       2007       2008       2009  \\\n",
       "0   Burundi   7131.688   7364.857   7607.850   7862.226   8126.104   8397.661   \n",
       "1   Comoros    597.230    611.625    626.427    641.624    657.227    673.251   \n",
       "2  Djibouti    771.599    783.248    794.554    805.456    816.361    827.820   \n",
       "3   Eritrea   2719.809   2826.653   2918.209   2996.540   3062.782   3119.920   \n",
       "4  Ethiopia  74239.508  76346.310  78489.205  80674.343  82916.236  85233.923   \n",
       "\n",
       "        2010       2011       2012       2013  \n",
       "0   8675.606   8958.406   9245.992   9540.302  \n",
       "1    689.696    706.578    723.865    741.511  \n",
       "2    840.194    853.671    868.136    883.296  \n",
       "3   3170.437   3213.969   3250.104   3281.453  \n",
       "4  87639.962  90139.928  92726.982  95385.793  "
      ]
     },
     "execution_count": 3,
     "metadata": {},
     "output_type": "execute_result"
    }
   ],
   "source": [
    "population = pd.read_excel(\"Africa_pop.xlsx\")  \n",
    "#Source:https://population.un.org/wpp/Download/Standard/Population/\n",
    "population = population.drop(['2003', '2014'], axis=1)\n",
    "\n",
    "population.head()"
   ]
  },
  {
   "cell_type": "code",
   "execution_count": 4,
   "metadata": {},
   "outputs": [
    {
     "data": {
      "text/html": [
       "<div>\n",
       "<style scoped>\n",
       "    .dataframe tbody tr th:only-of-type {\n",
       "        vertical-align: middle;\n",
       "    }\n",
       "\n",
       "    .dataframe tbody tr th {\n",
       "        vertical-align: top;\n",
       "    }\n",
       "\n",
       "    .dataframe thead th {\n",
       "        text-align: right;\n",
       "    }\n",
       "</style>\n",
       "<table border=\"1\" class=\"dataframe\">\n",
       "  <thead>\n",
       "    <tr style=\"text-align: right;\">\n",
       "      <th></th>\n",
       "      <th>Country</th>\n",
       "      <th>Year</th>\n",
       "      <th>Population</th>\n",
       "    </tr>\n",
       "  </thead>\n",
       "  <tbody>\n",
       "    <tr>\n",
       "      <th>0</th>\n",
       "      <td>Burundi</td>\n",
       "      <td>2004</td>\n",
       "      <td>7131688</td>\n",
       "    </tr>\n",
       "    <tr>\n",
       "      <th>1</th>\n",
       "      <td>Comoros</td>\n",
       "      <td>2004</td>\n",
       "      <td>597230</td>\n",
       "    </tr>\n",
       "    <tr>\n",
       "      <th>2</th>\n",
       "      <td>Djibouti</td>\n",
       "      <td>2004</td>\n",
       "      <td>771599</td>\n",
       "    </tr>\n",
       "    <tr>\n",
       "      <th>3</th>\n",
       "      <td>Eritrea</td>\n",
       "      <td>2004</td>\n",
       "      <td>2719809</td>\n",
       "    </tr>\n",
       "    <tr>\n",
       "      <th>4</th>\n",
       "      <td>Ethiopia</td>\n",
       "      <td>2004</td>\n",
       "      <td>74239508</td>\n",
       "    </tr>\n",
       "  </tbody>\n",
       "</table>\n",
       "</div>"
      ],
      "text/plain": [
       "    Country  Year  Population\n",
       "0   Burundi  2004     7131688\n",
       "1   Comoros  2004      597230\n",
       "2  Djibouti  2004      771599\n",
       "3   Eritrea  2004     2719809\n",
       "4  Ethiopia  2004    74239508"
      ]
     },
     "execution_count": 4,
     "metadata": {},
     "output_type": "execute_result"
    }
   ],
   "source": [
    "population = (population.set_index('Country') * 1000).astype(int).reset_index()\n",
    "\n",
    "years = list(map(str, supply.Year.unique()))\n",
    "population = pd.melt(population,\n",
    "                     id_vars='Country',\n",
    "                     value_vars=years,\n",
    "                     var_name= 'Year',\n",
    "                     value_name= 'Population'\n",
    "                    )\n",
    "population.head()"
   ]
  },
  {
   "cell_type": "code",
   "execution_count": 5,
   "metadata": {
    "scrolled": true
   },
   "outputs": [
    {
     "data": {
      "text/html": [
       "<div>\n",
       "<style scoped>\n",
       "    .dataframe tbody tr th:only-of-type {\n",
       "        vertical-align: middle;\n",
       "    }\n",
       "\n",
       "    .dataframe tbody tr th {\n",
       "        vertical-align: top;\n",
       "    }\n",
       "\n",
       "    .dataframe thead th {\n",
       "        text-align: right;\n",
       "    }\n",
       "</style>\n",
       "<table border=\"1\" class=\"dataframe\">\n",
       "  <thead>\n",
       "    <tr style=\"text-align: right;\">\n",
       "      <th></th>\n",
       "      <th>Country</th>\n",
       "      <th>2004</th>\n",
       "      <th>2005</th>\n",
       "      <th>2006</th>\n",
       "      <th>2007</th>\n",
       "      <th>2008</th>\n",
       "      <th>2009</th>\n",
       "      <th>2010</th>\n",
       "      <th>2011</th>\n",
       "      <th>2012</th>\n",
       "      <th>2013</th>\n",
       "    </tr>\n",
       "  </thead>\n",
       "  <tbody>\n",
       "    <tr>\n",
       "      <th>0</th>\n",
       "      <td>Algeria</td>\n",
       "      <td>2610.182686</td>\n",
       "      <td>3113.094277</td>\n",
       "      <td>3478.709639</td>\n",
       "      <td>3950.513625</td>\n",
       "      <td>4923.630825</td>\n",
       "      <td>3883.270236</td>\n",
       "      <td>4480.786786</td>\n",
       "      <td>5455.843408</td>\n",
       "      <td>5592.223152</td>\n",
       "      <td>5499.587619</td>\n",
       "    </tr>\n",
       "    <tr>\n",
       "      <th>1</th>\n",
       "      <td>Egypt</td>\n",
       "      <td>1067.617527</td>\n",
       "      <td>1250.686680</td>\n",
       "      <td>1401.539876</td>\n",
       "      <td>1689.399910</td>\n",
       "      <td>2069.966233</td>\n",
       "      <td>2316.594660</td>\n",
       "      <td>2593.368405</td>\n",
       "      <td>2733.968454</td>\n",
       "      <td>3199.827727</td>\n",
       "      <td>3062.989012</td>\n",
       "    </tr>\n",
       "    <tr>\n",
       "      <th>2</th>\n",
       "      <td>Libya</td>\n",
       "      <td>5830.446721</td>\n",
       "      <td>7838.335308</td>\n",
       "      <td>9355.857102</td>\n",
       "      <td>10488.751578</td>\n",
       "      <td>15733.706861</td>\n",
       "      <td>11222.421490</td>\n",
       "      <td>13060.151806</td>\n",
       "      <td>6496.624235</td>\n",
       "      <td>16094.444253</td>\n",
       "      <td>10414.845264</td>\n",
       "    </tr>\n",
       "    <tr>\n",
       "      <th>3</th>\n",
       "      <td>Morocco</td>\n",
       "      <td>1986.973002</td>\n",
       "      <td>2053.639466</td>\n",
       "      <td>2238.996465</td>\n",
       "      <td>2536.317631</td>\n",
       "      <td>2933.301005</td>\n",
       "      <td>2909.488780</td>\n",
       "      <td>2882.110528</td>\n",
       "      <td>3092.283635</td>\n",
       "      <td>2956.083600</td>\n",
       "      <td>3168.422740</td>\n",
       "    </tr>\n",
       "    <tr>\n",
       "      <th>4</th>\n",
       "      <td>Sudan</td>\n",
       "      <td>711.935758</td>\n",
       "      <td>914.180732</td>\n",
       "      <td>1143.913538</td>\n",
       "      <td>1461.327413</td>\n",
       "      <td>1467.653879</td>\n",
       "      <td>1439.052139</td>\n",
       "      <td>1582.809233</td>\n",
       "      <td>1932.357044</td>\n",
       "      <td>1720.924295</td>\n",
       "      <td>1724.554598</td>\n",
       "    </tr>\n",
       "  </tbody>\n",
       "</table>\n",
       "</div>"
      ],
      "text/plain": [
       "   Country         2004         2005         2006          2007          2008  \\\n",
       "0  Algeria  2610.182686  3113.094277  3478.709639   3950.513625   4923.630825   \n",
       "1    Egypt  1067.617527  1250.686680  1401.539876   1689.399910   2069.966233   \n",
       "2    Libya  5830.446721  7838.335308  9355.857102  10488.751578  15733.706861   \n",
       "3  Morocco  1986.973002  2053.639466  2238.996465   2536.317631   2933.301005   \n",
       "4    Sudan   711.935758   914.180732  1143.913538   1461.327413   1467.653879   \n",
       "\n",
       "           2009          2010         2011          2012          2013  \n",
       "0   3883.270236   4480.786786  5455.843408   5592.223152   5499.587619  \n",
       "1   2316.594660   2593.368405  2733.968454   3199.827727   3062.989012  \n",
       "2  11222.421490  13060.151806  6496.624235  16094.444253  10414.845264  \n",
       "3   2909.488780   2882.110528  3092.283635   2956.083600   3168.422740  \n",
       "4   1439.052139   1582.809233  1932.357044   1720.924295   1724.554598  "
      ]
     },
     "execution_count": 5,
     "metadata": {},
     "output_type": "execute_result"
    }
   ],
   "source": [
    "gdp_pc = pd.read_excel(\"africa_percapitaGDP.xlsx\")  \n",
    "#Source: https://unstats.un.org/unsd/snaama/Downloads\n",
    "gdp_pc.head()"
   ]
  },
  {
   "cell_type": "code",
   "execution_count": 6,
   "metadata": {
    "scrolled": true
   },
   "outputs": [
    {
     "data": {
      "text/html": [
       "<div>\n",
       "<style scoped>\n",
       "    .dataframe tbody tr th:only-of-type {\n",
       "        vertical-align: middle;\n",
       "    }\n",
       "\n",
       "    .dataframe tbody tr th {\n",
       "        vertical-align: top;\n",
       "    }\n",
       "\n",
       "    .dataframe thead th {\n",
       "        text-align: right;\n",
       "    }\n",
       "</style>\n",
       "<table border=\"1\" class=\"dataframe\">\n",
       "  <thead>\n",
       "    <tr style=\"text-align: right;\">\n",
       "      <th></th>\n",
       "      <th>Country</th>\n",
       "      <th>Year</th>\n",
       "      <th>gdp_per_capita</th>\n",
       "    </tr>\n",
       "  </thead>\n",
       "  <tbody>\n",
       "    <tr>\n",
       "      <th>81</th>\n",
       "      <td>Cameroon</td>\n",
       "      <td>2005</td>\n",
       "      <td>1011.879991</td>\n",
       "    </tr>\n",
       "    <tr>\n",
       "      <th>58</th>\n",
       "      <td>Morocco</td>\n",
       "      <td>2005</td>\n",
       "      <td>2053.639466</td>\n",
       "    </tr>\n",
       "    <tr>\n",
       "      <th>459</th>\n",
       "      <td>South Sudan</td>\n",
       "      <td>2012</td>\n",
       "      <td>952.587498</td>\n",
       "    </tr>\n",
       "    <tr>\n",
       "      <th>59</th>\n",
       "      <td>Sudan</td>\n",
       "      <td>2005</td>\n",
       "      <td>914.180732</td>\n",
       "    </tr>\n",
       "    <tr>\n",
       "      <th>250</th>\n",
       "      <td>D.R. of the Congo</td>\n",
       "      <td>2008</td>\n",
       "      <td>327.564649</td>\n",
       "    </tr>\n",
       "  </tbody>\n",
       "</table>\n",
       "</div>"
      ],
      "text/plain": [
       "               Country  Year  gdp_per_capita\n",
       "81            Cameroon  2005     1011.879991\n",
       "58             Morocco  2005     2053.639466\n",
       "459        South Sudan  2012      952.587498\n",
       "59               Sudan  2005      914.180732\n",
       "250  D.R. of the Congo  2008      327.564649"
      ]
     },
     "execution_count": 6,
     "metadata": {},
     "output_type": "execute_result"
    }
   ],
   "source": [
    "gdp_pc = pd.melt(gdp_pc, id_vars='Country', \n",
    "                 value_vars=supply.Year.unique(),\n",
    "                 var_name= 'Year',\n",
    "                 value_name= 'gdp_per_capita'\n",
    "                )\n",
    "gdp_pc.sample(5)"
   ]
  },
  {
   "cell_type": "markdown",
   "metadata": {},
   "source": [
    "# Checking Data and Data Quality"
   ]
  },
  {
   "cell_type": "code",
   "execution_count": 7,
   "metadata": {
    "scrolled": false
   },
   "outputs": [
    {
     "data": {
      "text/html": [
       "<div>\n",
       "<style scoped>\n",
       "    .dataframe tbody tr th:only-of-type {\n",
       "        vertical-align: middle;\n",
       "    }\n",
       "\n",
       "    .dataframe tbody tr th {\n",
       "        vertical-align: top;\n",
       "    }\n",
       "\n",
       "    .dataframe thead th {\n",
       "        text-align: right;\n",
       "    }\n",
       "</style>\n",
       "<table border=\"1\" class=\"dataframe\">\n",
       "  <thead>\n",
       "    <tr style=\"text-align: right;\">\n",
       "      <th></th>\n",
       "      <th>Country</th>\n",
       "      <th>Item</th>\n",
       "      <th>Year</th>\n",
       "      <th>Value</th>\n",
       "    </tr>\n",
       "  </thead>\n",
       "  <tbody>\n",
       "    <tr>\n",
       "      <th>21196</th>\n",
       "      <td>Uganda</td>\n",
       "      <td>Crustaceans</td>\n",
       "      <td>2010</td>\n",
       "      <td>0</td>\n",
       "    </tr>\n",
       "    <tr>\n",
       "      <th>11760</th>\n",
       "      <td>Malawi</td>\n",
       "      <td>Fats, Animals, Raw</td>\n",
       "      <td>2004</td>\n",
       "      <td>3000</td>\n",
       "    </tr>\n",
       "    <tr>\n",
       "      <th>7760</th>\n",
       "      <td>Ghana</td>\n",
       "      <td>Sorghum and products</td>\n",
       "      <td>2004</td>\n",
       "      <td>287000</td>\n",
       "    </tr>\n",
       "    <tr>\n",
       "      <th>13407</th>\n",
       "      <td>Morocco</td>\n",
       "      <td>Olives (including preserved)</td>\n",
       "      <td>2011</td>\n",
       "      <td>1416000</td>\n",
       "    </tr>\n",
       "    <tr>\n",
       "      <th>1528</th>\n",
       "      <td>Benin</td>\n",
       "      <td>Pimento</td>\n",
       "      <td>2012</td>\n",
       "      <td>68000</td>\n",
       "    </tr>\n",
       "  </tbody>\n",
       "</table>\n",
       "</div>"
      ],
      "text/plain": [
       "       Country                          Item  Year    Value\n",
       "21196   Uganda                   Crustaceans  2010        0\n",
       "11760   Malawi            Fats, Animals, Raw  2004     3000\n",
       "7760     Ghana          Sorghum and products  2004   287000\n",
       "13407  Morocco  Olives (including preserved)  2011  1416000\n",
       "1528     Benin                       Pimento  2012    68000"
      ]
     },
     "execution_count": 7,
     "metadata": {},
     "output_type": "execute_result"
    }
   ],
   "source": [
    "# convert to kilo metric tonnes\n",
    "prod.Value = prod.Value * 1000\n",
    "prod.sample(5)"
   ]
  },
  {
   "cell_type": "code",
   "execution_count": null,
   "metadata": {},
   "outputs": [],
   "source": []
  },
  {
   "cell_type": "code",
   "execution_count": 8,
   "metadata": {
    "scrolled": true
   },
   "outputs": [
    {
     "data": {
      "text/html": [
       "<div>\n",
       "<style scoped>\n",
       "    .dataframe tbody tr th:only-of-type {\n",
       "        vertical-align: middle;\n",
       "    }\n",
       "\n",
       "    .dataframe tbody tr th {\n",
       "        vertical-align: top;\n",
       "    }\n",
       "\n",
       "    .dataframe thead th {\n",
       "        text-align: right;\n",
       "    }\n",
       "</style>\n",
       "<table border=\"1\" class=\"dataframe\">\n",
       "  <thead>\n",
       "    <tr style=\"text-align: right;\">\n",
       "      <th></th>\n",
       "      <th>Country</th>\n",
       "      <th>Year</th>\n",
       "      <th>Value</th>\n",
       "    </tr>\n",
       "  </thead>\n",
       "  <tbody>\n",
       "    <tr>\n",
       "      <th>140</th>\n",
       "      <td>Gabon</td>\n",
       "      <td>2004</td>\n",
       "      <td>2676000</td>\n",
       "    </tr>\n",
       "    <tr>\n",
       "      <th>201</th>\n",
       "      <td>Lesotho</td>\n",
       "      <td>2005</td>\n",
       "      <td>2567000</td>\n",
       "    </tr>\n",
       "    <tr>\n",
       "      <th>343</th>\n",
       "      <td>Senegal</td>\n",
       "      <td>2007</td>\n",
       "      <td>2342000</td>\n",
       "    </tr>\n",
       "    <tr>\n",
       "      <th>79</th>\n",
       "      <td>Central African Republic</td>\n",
       "      <td>2013</td>\n",
       "      <td>1879000</td>\n",
       "    </tr>\n",
       "    <tr>\n",
       "      <th>270</th>\n",
       "      <td>Morocco</td>\n",
       "      <td>2004</td>\n",
       "      <td>3263000</td>\n",
       "    </tr>\n",
       "  </tbody>\n",
       "</table>\n",
       "</div>"
      ],
      "text/plain": [
       "                      Country  Year    Value\n",
       "140                     Gabon  2004  2676000\n",
       "201                   Lesotho  2005  2567000\n",
       "343                   Senegal  2007  2342000\n",
       "79   Central African Republic  2013  1879000\n",
       "270                   Morocco  2004  3263000"
      ]
     },
     "execution_count": 8,
     "metadata": {},
     "output_type": "execute_result"
    }
   ],
   "source": [
    "# convert to kilo metric tonnes\n",
    "supply.Value = supply.Value * 1000\n",
    "supply.sample(5)"
   ]
  },
  {
   "cell_type": "code",
   "execution_count": 9,
   "metadata": {},
   "outputs": [],
   "source": [
    "assert set(prod.Country.unique()) == set(supply.Country.unique()), \n",
    "\"Else, they do not have same Country names\"\n",
    "\n",
    "assert set(prod.Year.unique()) == set(supply.Year.unique()), \n",
    "\"Else, reporting years differ\""
   ]
  },
  {
   "cell_type": "code",
   "execution_count": 11,
   "metadata": {
    "scrolled": true
   },
   "outputs": [
    {
     "name": "stdout",
     "output_type": "stream",
     "text": [
      "{'Swaziland', \"Cote d'Ivoire\"} are not in population dataframe\n",
      "{'Swaziland', \"Cote d'Ivoire\", 'United Republic of Tanzania'} are not in gdp_pc dataframe\n"
     ]
    }
   ],
   "source": [
    "print(set(prod.Country.unique()).difference(set(population.Country.unique())), \n",
    "      \"are not in population dataframe\")\n",
    "\n",
    "print(set(prod.Country.unique()).difference(set(gdp_pc.Country.unique())), \n",
    "      \"are not in gdp_pc dataframe\")"
   ]
  },
  {
   "cell_type": "code",
   "execution_count": 12,
   "metadata": {},
   "outputs": [],
   "source": [
    "population.loc[population.Country == \"Côte d'Ivoire\", 'Country'] = \"Cote d'Ivoire\"\n",
    "population.loc[population.Country == \"Eswatini\", 'Country'] = 'Swaziland'"
   ]
  },
  {
   "cell_type": "code",
   "execution_count": 13,
   "metadata": {},
   "outputs": [],
   "source": [
    "gdp_pc.loc[gdp_pc.Country == \"Côte d'Ivoire\", 'Country'] = \"Cote d'Ivoire\"\n",
    "gdp_pc.loc[gdp_pc.Country == \"Eswatini\", 'Country'] = 'Swaziland'\n",
    "gdp_pc.loc[gdp_pc.Country.str.contains('Tanzania'), \n",
    "           'Country'] = 'United Republic of Tanzania'"
   ]
  },
  {
   "cell_type": "code",
   "execution_count": 14,
   "metadata": {
    "scrolled": true
   },
   "outputs": [
    {
     "name": "stdout",
     "output_type": "stream",
     "text": [
      "set() are not in population dataframe\n",
      "set() are not in gdp_pc dataframe\n"
     ]
    }
   ],
   "source": [
    "print(set(prod.Country.unique()).difference(set(population.Country.unique())),\n",
    "      \"are not in population dataframe\")\n",
    "\n",
    "print(set(prod.Country.unique()).difference(set(gdp_pc.Country.unique())), \n",
    "      \"are not in gdp_pc dataframe\")"
   ]
  },
  {
   "cell_type": "code",
   "execution_count": null,
   "metadata": {},
   "outputs": [],
   "source": []
  },
  {
   "cell_type": "code",
   "execution_count": 15,
   "metadata": {
    "scrolled": true
   },
   "outputs": [],
   "source": [
    "def describe_variables(df):\n",
    "    \"describe all the variables\"\n",
    "    def range_category(df, column):\n",
    "        input_ = df[column]\n",
    "        if input_.dtype == np.object:\n",
    "            if input_.unique().size <=10:\n",
    "                output = ','.join(map(str, input_.unique()))\n",
    "            else:\n",
    "                output = f\"{input_.unique().size:,} unique records\"\n",
    "            return output\n",
    "\n",
    "        else:\n",
    "            min_ = df[column].min()\n",
    "            max_ = df[column].max()\n",
    "            range_ = max_ - min_\n",
    "            output = f\"{min_:,.1f} -- {max_:,.1f} ({range_:,.0f})\"\n",
    "            return output\n",
    "\n",
    "    data_types = df.dtypes.to_frame().rename(columns={0:\"Data type\"})\n",
    "\n",
    "\n",
    "    data_types['range/categories'] = [range_category(df, column) for column in df.columns]\n",
    "    data_types['missing_data'] = [df[column].isnull().sum() for column in df.columns]\n",
    "    \n",
    "    return data_types"
   ]
  },
  {
   "cell_type": "code",
   "execution_count": 16,
   "metadata": {
    "scrolled": false
   },
   "outputs": [
    {
     "data": {
      "text/plain": [
       "Country    False\n",
       "Year       False\n",
       "Value      False\n",
       "dtype: bool"
      ]
     },
     "execution_count": 16,
     "metadata": {},
     "output_type": "execute_result"
    }
   ],
   "source": [
    "supply.isnull().any()"
   ]
  },
  {
   "cell_type": "code",
   "execution_count": 17,
   "metadata": {},
   "outputs": [
    {
     "data": {
      "text/plain": [
       "Country    False\n",
       "Item       False\n",
       "Year       False\n",
       "Value      False\n",
       "dtype: bool"
      ]
     },
     "execution_count": 17,
     "metadata": {},
     "output_type": "execute_result"
    }
   ],
   "source": [
    "prod.isnull().any()"
   ]
  },
  {
   "cell_type": "code",
   "execution_count": 18,
   "metadata": {
    "scrolled": true
   },
   "outputs": [
    {
     "data": {
      "text/html": [
       "<div>\n",
       "<style scoped>\n",
       "    .dataframe tbody tr th:only-of-type {\n",
       "        vertical-align: middle;\n",
       "    }\n",
       "\n",
       "    .dataframe tbody tr th {\n",
       "        vertical-align: top;\n",
       "    }\n",
       "\n",
       "    .dataframe thead th {\n",
       "        text-align: right;\n",
       "    }\n",
       "</style>\n",
       "<table border=\"1\" class=\"dataframe\">\n",
       "  <thead>\n",
       "    <tr style=\"text-align: right;\">\n",
       "      <th></th>\n",
       "      <th>Data type</th>\n",
       "      <th>range/categories</th>\n",
       "      <th>missing_data</th>\n",
       "    </tr>\n",
       "  </thead>\n",
       "  <tbody>\n",
       "    <tr>\n",
       "      <th>Country</th>\n",
       "      <td>object</td>\n",
       "      <td>45 unique records</td>\n",
       "      <td>0</td>\n",
       "    </tr>\n",
       "    <tr>\n",
       "      <th>Item</th>\n",
       "      <td>object</td>\n",
       "      <td>94 unique records</td>\n",
       "      <td>0</td>\n",
       "    </tr>\n",
       "    <tr>\n",
       "      <th>Year</th>\n",
       "      <td>int64</td>\n",
       "      <td>2,004.0 -- 2,013.0 (9)</td>\n",
       "      <td>0</td>\n",
       "    </tr>\n",
       "    <tr>\n",
       "      <th>Value</th>\n",
       "      <td>int64</td>\n",
       "      <td>0.0 -- 54,000,000.0 (54,000,000)</td>\n",
       "      <td>0</td>\n",
       "    </tr>\n",
       "  </tbody>\n",
       "</table>\n",
       "</div>"
      ],
      "text/plain": [
       "        Data type                  range/categories  missing_data\n",
       "Country    object                 45 unique records             0\n",
       "Item       object                 94 unique records             0\n",
       "Year        int64            2,004.0 -- 2,013.0 (9)             0\n",
       "Value       int64  0.0 -- 54,000,000.0 (54,000,000)             0"
      ]
     },
     "execution_count": 18,
     "metadata": {},
     "output_type": "execute_result"
    }
   ],
   "source": [
    "describe_variables(prod)"
   ]
  },
  {
   "cell_type": "code",
   "execution_count": 19,
   "metadata": {
    "scrolled": true
   },
   "outputs": [
    {
     "data": {
      "text/html": [
       "<div>\n",
       "<style scoped>\n",
       "    .dataframe tbody tr th:only-of-type {\n",
       "        vertical-align: middle;\n",
       "    }\n",
       "\n",
       "    .dataframe tbody tr th {\n",
       "        vertical-align: top;\n",
       "    }\n",
       "\n",
       "    .dataframe thead th {\n",
       "        text-align: right;\n",
       "    }\n",
       "</style>\n",
       "<table border=\"1\" class=\"dataframe\">\n",
       "  <thead>\n",
       "    <tr style=\"text-align: right;\">\n",
       "      <th></th>\n",
       "      <th>Data type</th>\n",
       "      <th>range/categories</th>\n",
       "      <th>missing_data</th>\n",
       "    </tr>\n",
       "  </thead>\n",
       "  <tbody>\n",
       "    <tr>\n",
       "      <th>Country</th>\n",
       "      <td>object</td>\n",
       "      <td>45 unique records</td>\n",
       "      <td>0</td>\n",
       "    </tr>\n",
       "    <tr>\n",
       "      <th>Year</th>\n",
       "      <td>int64</td>\n",
       "      <td>2,004.0 -- 2,013.0 (9)</td>\n",
       "      <td>0</td>\n",
       "    </tr>\n",
       "    <tr>\n",
       "      <th>Value</th>\n",
       "      <td>int64</td>\n",
       "      <td>1,781,000.0 -- 3,561,000.0 (1,780,000)</td>\n",
       "      <td>0</td>\n",
       "    </tr>\n",
       "  </tbody>\n",
       "</table>\n",
       "</div>"
      ],
      "text/plain": [
       "        Data type                        range/categories  missing_data\n",
       "Country    object                       45 unique records             0\n",
       "Year        int64                  2,004.0 -- 2,013.0 (9)             0\n",
       "Value       int64  1,781,000.0 -- 3,561,000.0 (1,780,000)             0"
      ]
     },
     "execution_count": 19,
     "metadata": {},
     "output_type": "execute_result"
    }
   ],
   "source": [
    "describe_variables(supply)"
   ]
  },
  {
   "cell_type": "code",
   "execution_count": 20,
   "metadata": {},
   "outputs": [
    {
     "data": {
      "text/html": [
       "<div>\n",
       "<style scoped>\n",
       "    .dataframe tbody tr th:only-of-type {\n",
       "        vertical-align: middle;\n",
       "    }\n",
       "\n",
       "    .dataframe tbody tr th {\n",
       "        vertical-align: top;\n",
       "    }\n",
       "\n",
       "    .dataframe thead th {\n",
       "        text-align: right;\n",
       "    }\n",
       "</style>\n",
       "<table border=\"1\" class=\"dataframe\">\n",
       "  <thead>\n",
       "    <tr style=\"text-align: right;\">\n",
       "      <th></th>\n",
       "      <th>Data type</th>\n",
       "      <th>range/categories</th>\n",
       "      <th>missing_data</th>\n",
       "    </tr>\n",
       "  </thead>\n",
       "  <tbody>\n",
       "    <tr>\n",
       "      <th>Country</th>\n",
       "      <td>object</td>\n",
       "      <td>58 unique records</td>\n",
       "      <td>0</td>\n",
       "    </tr>\n",
       "    <tr>\n",
       "      <th>Year</th>\n",
       "      <td>object</td>\n",
       "      <td>2004,2005,2006,2007,2008,2009,2010,2011,2012,2013</td>\n",
       "      <td>0</td>\n",
       "    </tr>\n",
       "    <tr>\n",
       "      <th>Population</th>\n",
       "      <td>int64</td>\n",
       "      <td>5,135.0 -- 171,765,819.0 (171,760,684)</td>\n",
       "      <td>0</td>\n",
       "    </tr>\n",
       "  </tbody>\n",
       "</table>\n",
       "</div>"
      ],
      "text/plain": [
       "           Data type                                   range/categories  \\\n",
       "Country       object                                  58 unique records   \n",
       "Year          object  2004,2005,2006,2007,2008,2009,2010,2011,2012,2013   \n",
       "Population     int64             5,135.0 -- 171,765,819.0 (171,760,684)   \n",
       "\n",
       "            missing_data  \n",
       "Country                0  \n",
       "Year                   0  \n",
       "Population             0  "
      ]
     },
     "execution_count": 20,
     "metadata": {},
     "output_type": "execute_result"
    }
   ],
   "source": [
    "describe_variables(population)"
   ]
  },
  {
   "cell_type": "code",
   "execution_count": 21,
   "metadata": {},
   "outputs": [
    {
     "data": {
      "text/html": [
       "<div>\n",
       "<style scoped>\n",
       "    .dataframe tbody tr th:only-of-type {\n",
       "        vertical-align: middle;\n",
       "    }\n",
       "\n",
       "    .dataframe tbody tr th {\n",
       "        vertical-align: top;\n",
       "    }\n",
       "\n",
       "    .dataframe thead th {\n",
       "        text-align: right;\n",
       "    }\n",
       "</style>\n",
       "<table border=\"1\" class=\"dataframe\">\n",
       "  <thead>\n",
       "    <tr style=\"text-align: right;\">\n",
       "      <th></th>\n",
       "      <th>Data type</th>\n",
       "      <th>range/categories</th>\n",
       "      <th>missing_data</th>\n",
       "    </tr>\n",
       "  </thead>\n",
       "  <tbody>\n",
       "    <tr>\n",
       "      <th>Country</th>\n",
       "      <td>object</td>\n",
       "      <td>55 unique records</td>\n",
       "      <td>0</td>\n",
       "    </tr>\n",
       "    <tr>\n",
       "      <th>Year</th>\n",
       "      <td>object</td>\n",
       "      <td>2004,2005,2006,2007,2008,2009,2010,2011,2012,2013</td>\n",
       "      <td>0</td>\n",
       "    </tr>\n",
       "    <tr>\n",
       "      <th>gdp_per_capita</th>\n",
       "      <td>float64</td>\n",
       "      <td>90.7 -- 22,942.6 (22,852)</td>\n",
       "      <td>4</td>\n",
       "    </tr>\n",
       "  </tbody>\n",
       "</table>\n",
       "</div>"
      ],
      "text/plain": [
       "               Data type                                   range/categories  \\\n",
       "Country           object                                  55 unique records   \n",
       "Year              object  2004,2005,2006,2007,2008,2009,2010,2011,2012,2013   \n",
       "gdp_per_capita   float64                          90.7 -- 22,942.6 (22,852)   \n",
       "\n",
       "                missing_data  \n",
       "Country                    0  \n",
       "Year                       0  \n",
       "gdp_per_capita             4  "
      ]
     },
     "execution_count": 21,
     "metadata": {},
     "output_type": "execute_result"
    }
   ],
   "source": [
    "describe_variables(gdp_pc)"
   ]
  },
  {
   "cell_type": "code",
   "execution_count": 22,
   "metadata": {
    "scrolled": true
   },
   "outputs": [
    {
     "data": {
      "text/html": [
       "<div>\n",
       "<style scoped>\n",
       "    .dataframe tbody tr th:only-of-type {\n",
       "        vertical-align: middle;\n",
       "    }\n",
       "\n",
       "    .dataframe tbody tr th {\n",
       "        vertical-align: top;\n",
       "    }\n",
       "\n",
       "    .dataframe thead th {\n",
       "        text-align: right;\n",
       "    }\n",
       "</style>\n",
       "<table border=\"1\" class=\"dataframe\">\n",
       "  <thead>\n",
       "    <tr style=\"text-align: right;\">\n",
       "      <th></th>\n",
       "      <th>Country</th>\n",
       "      <th>Item</th>\n",
       "      <th>Year</th>\n",
       "      <th>Value</th>\n",
       "    </tr>\n",
       "  </thead>\n",
       "  <tbody>\n",
       "    <tr>\n",
       "      <th>0</th>\n",
       "      <td>Algeria</td>\n",
       "      <td>Wheat and products</td>\n",
       "      <td>2004</td>\n",
       "      <td>2731000</td>\n",
       "    </tr>\n",
       "    <tr>\n",
       "      <th>1</th>\n",
       "      <td>Algeria</td>\n",
       "      <td>Wheat and products</td>\n",
       "      <td>2005</td>\n",
       "      <td>2415000</td>\n",
       "    </tr>\n",
       "    <tr>\n",
       "      <th>2</th>\n",
       "      <td>Algeria</td>\n",
       "      <td>Wheat and products</td>\n",
       "      <td>2006</td>\n",
       "      <td>2688000</td>\n",
       "    </tr>\n",
       "    <tr>\n",
       "      <th>3</th>\n",
       "      <td>Algeria</td>\n",
       "      <td>Wheat and products</td>\n",
       "      <td>2007</td>\n",
       "      <td>2319000</td>\n",
       "    </tr>\n",
       "    <tr>\n",
       "      <th>4</th>\n",
       "      <td>Algeria</td>\n",
       "      <td>Wheat and products</td>\n",
       "      <td>2008</td>\n",
       "      <td>1111000</td>\n",
       "    </tr>\n",
       "  </tbody>\n",
       "</table>\n",
       "</div>"
      ],
      "text/plain": [
       "   Country                Item  Year    Value\n",
       "0  Algeria  Wheat and products  2004  2731000\n",
       "1  Algeria  Wheat and products  2005  2415000\n",
       "2  Algeria  Wheat and products  2006  2688000\n",
       "3  Algeria  Wheat and products  2007  2319000\n",
       "4  Algeria  Wheat and products  2008  1111000"
      ]
     },
     "execution_count": 22,
     "metadata": {},
     "output_type": "execute_result"
    }
   ],
   "source": [
    "prod.head()"
   ]
  },
  {
   "cell_type": "code",
   "execution_count": 23,
   "metadata": {},
   "outputs": [
    {
     "data": {
      "text/html": [
       "<div>\n",
       "<style scoped>\n",
       "    .dataframe tbody tr th:only-of-type {\n",
       "        vertical-align: middle;\n",
       "    }\n",
       "\n",
       "    .dataframe tbody tr th {\n",
       "        vertical-align: top;\n",
       "    }\n",
       "\n",
       "    .dataframe thead th {\n",
       "        text-align: right;\n",
       "    }\n",
       "</style>\n",
       "<table border=\"1\" class=\"dataframe\">\n",
       "  <thead>\n",
       "    <tr style=\"text-align: right;\">\n",
       "      <th></th>\n",
       "      <th>Country</th>\n",
       "      <th>Year</th>\n",
       "      <th>Value</th>\n",
       "    </tr>\n",
       "  </thead>\n",
       "  <tbody>\n",
       "    <tr>\n",
       "      <th>0</th>\n",
       "      <td>Algeria</td>\n",
       "      <td>2004</td>\n",
       "      <td>2987000</td>\n",
       "    </tr>\n",
       "    <tr>\n",
       "      <th>1</th>\n",
       "      <td>Algeria</td>\n",
       "      <td>2005</td>\n",
       "      <td>2958000</td>\n",
       "    </tr>\n",
       "    <tr>\n",
       "      <th>2</th>\n",
       "      <td>Algeria</td>\n",
       "      <td>2006</td>\n",
       "      <td>3047000</td>\n",
       "    </tr>\n",
       "    <tr>\n",
       "      <th>3</th>\n",
       "      <td>Algeria</td>\n",
       "      <td>2007</td>\n",
       "      <td>3041000</td>\n",
       "    </tr>\n",
       "    <tr>\n",
       "      <th>4</th>\n",
       "      <td>Algeria</td>\n",
       "      <td>2008</td>\n",
       "      <td>3048000</td>\n",
       "    </tr>\n",
       "  </tbody>\n",
       "</table>\n",
       "</div>"
      ],
      "text/plain": [
       "   Country  Year    Value\n",
       "0  Algeria  2004  2987000\n",
       "1  Algeria  2005  2958000\n",
       "2  Algeria  2006  3047000\n",
       "3  Algeria  2007  3041000\n",
       "4  Algeria  2008  3048000"
      ]
     },
     "execution_count": 23,
     "metadata": {},
     "output_type": "execute_result"
    }
   ],
   "source": [
    "supply.head()"
   ]
  },
  {
   "cell_type": "code",
   "execution_count": 24,
   "metadata": {},
   "outputs": [
    {
     "data": {
      "text/html": [
       "<div>\n",
       "<style scoped>\n",
       "    .dataframe tbody tr th:only-of-type {\n",
       "        vertical-align: middle;\n",
       "    }\n",
       "\n",
       "    .dataframe tbody tr th {\n",
       "        vertical-align: top;\n",
       "    }\n",
       "\n",
       "    .dataframe thead th {\n",
       "        text-align: right;\n",
       "    }\n",
       "</style>\n",
       "<table border=\"1\" class=\"dataframe\">\n",
       "  <thead>\n",
       "    <tr style=\"text-align: right;\">\n",
       "      <th></th>\n",
       "      <th>Country</th>\n",
       "      <th>Year</th>\n",
       "      <th>Population</th>\n",
       "    </tr>\n",
       "  </thead>\n",
       "  <tbody>\n",
       "    <tr>\n",
       "      <th>0</th>\n",
       "      <td>Burundi</td>\n",
       "      <td>2004</td>\n",
       "      <td>7131688</td>\n",
       "    </tr>\n",
       "    <tr>\n",
       "      <th>1</th>\n",
       "      <td>Comoros</td>\n",
       "      <td>2004</td>\n",
       "      <td>597230</td>\n",
       "    </tr>\n",
       "    <tr>\n",
       "      <th>2</th>\n",
       "      <td>Djibouti</td>\n",
       "      <td>2004</td>\n",
       "      <td>771599</td>\n",
       "    </tr>\n",
       "    <tr>\n",
       "      <th>3</th>\n",
       "      <td>Eritrea</td>\n",
       "      <td>2004</td>\n",
       "      <td>2719809</td>\n",
       "    </tr>\n",
       "    <tr>\n",
       "      <th>4</th>\n",
       "      <td>Ethiopia</td>\n",
       "      <td>2004</td>\n",
       "      <td>74239508</td>\n",
       "    </tr>\n",
       "  </tbody>\n",
       "</table>\n",
       "</div>"
      ],
      "text/plain": [
       "    Country  Year  Population\n",
       "0   Burundi  2004     7131688\n",
       "1   Comoros  2004      597230\n",
       "2  Djibouti  2004      771599\n",
       "3   Eritrea  2004     2719809\n",
       "4  Ethiopia  2004    74239508"
      ]
     },
     "execution_count": 24,
     "metadata": {},
     "output_type": "execute_result"
    }
   ],
   "source": [
    "population.head()"
   ]
  },
  {
   "cell_type": "markdown",
   "metadata": {},
   "source": [
    "#### Drop rows whose country names are not in $prod$ or $supply$ dataframe, <br>then sort values by Country and Year"
   ]
  },
  {
   "cell_type": "code",
   "execution_count": 25,
   "metadata": {
    "scrolled": true
   },
   "outputs": [
    {
     "data": {
      "text/html": [
       "<div>\n",
       "<style scoped>\n",
       "    .dataframe tbody tr th:only-of-type {\n",
       "        vertical-align: middle;\n",
       "    }\n",
       "\n",
       "    .dataframe tbody tr th {\n",
       "        vertical-align: top;\n",
       "    }\n",
       "\n",
       "    .dataframe thead th {\n",
       "        text-align: right;\n",
       "    }\n",
       "</style>\n",
       "<table border=\"1\" class=\"dataframe\">\n",
       "  <thead>\n",
       "    <tr style=\"text-align: right;\">\n",
       "      <th></th>\n",
       "      <th>Country</th>\n",
       "      <th>Year</th>\n",
       "      <th>Population</th>\n",
       "    </tr>\n",
       "  </thead>\n",
       "  <tbody>\n",
       "    <tr>\n",
       "      <th>0</th>\n",
       "      <td>Algeria</td>\n",
       "      <td>2004</td>\n",
       "      <td>32692153</td>\n",
       "    </tr>\n",
       "    <tr>\n",
       "      <th>1</th>\n",
       "      <td>Algeria</td>\n",
       "      <td>2005</td>\n",
       "      <td>33149720</td>\n",
       "    </tr>\n",
       "    <tr>\n",
       "      <th>2</th>\n",
       "      <td>Algeria</td>\n",
       "      <td>2006</td>\n",
       "      <td>33641007</td>\n",
       "    </tr>\n",
       "    <tr>\n",
       "      <th>3</th>\n",
       "      <td>Algeria</td>\n",
       "      <td>2007</td>\n",
       "      <td>34166976</td>\n",
       "    </tr>\n",
       "    <tr>\n",
       "      <th>4</th>\n",
       "      <td>Algeria</td>\n",
       "      <td>2008</td>\n",
       "      <td>34730604</td>\n",
       "    </tr>\n",
       "  </tbody>\n",
       "</table>\n",
       "</div>"
      ],
      "text/plain": [
       "   Country  Year  Population\n",
       "0  Algeria  2004    32692153\n",
       "1  Algeria  2005    33149720\n",
       "2  Algeria  2006    33641007\n",
       "3  Algeria  2007    34166976\n",
       "4  Algeria  2008    34730604"
      ]
     },
     "execution_count": 25,
     "metadata": {},
     "output_type": "execute_result"
    }
   ],
   "source": [
    "countries_not_in_prod = set(population.Country.unique()).difference(set(prod.Country.unique()))\n",
    "bool_series = [country in countries_not_in_prod for country in population.Country]\n",
    "labels = population[bool_series].index\n",
    "population.drop(labels, inplace=True)\n",
    "population.Year = population.Year.astype(np.int64)\n",
    "population = population.sort_values(by=['Country', 'Year'])\n",
    "indx = pd.Index(np.arange(population.shape[0]))\n",
    "population.set_index(indx, inplace=True)\n",
    "population.head()"
   ]
  },
  {
   "cell_type": "code",
   "execution_count": 26,
   "metadata": {},
   "outputs": [
    {
     "data": {
      "text/html": [
       "<div>\n",
       "<style scoped>\n",
       "    .dataframe tbody tr th:only-of-type {\n",
       "        vertical-align: middle;\n",
       "    }\n",
       "\n",
       "    .dataframe tbody tr th {\n",
       "        vertical-align: top;\n",
       "    }\n",
       "\n",
       "    .dataframe thead th {\n",
       "        text-align: right;\n",
       "    }\n",
       "</style>\n",
       "<table border=\"1\" class=\"dataframe\">\n",
       "  <thead>\n",
       "    <tr style=\"text-align: right;\">\n",
       "      <th></th>\n",
       "      <th>Country</th>\n",
       "      <th>Year</th>\n",
       "      <th>gdp_per_capita</th>\n",
       "    </tr>\n",
       "  </thead>\n",
       "  <tbody>\n",
       "    <tr>\n",
       "      <th>0</th>\n",
       "      <td>Algeria</td>\n",
       "      <td>2004</td>\n",
       "      <td>2610.182686</td>\n",
       "    </tr>\n",
       "    <tr>\n",
       "      <th>1</th>\n",
       "      <td>Algeria</td>\n",
       "      <td>2005</td>\n",
       "      <td>3113.094277</td>\n",
       "    </tr>\n",
       "    <tr>\n",
       "      <th>2</th>\n",
       "      <td>Algeria</td>\n",
       "      <td>2006</td>\n",
       "      <td>3478.709639</td>\n",
       "    </tr>\n",
       "    <tr>\n",
       "      <th>3</th>\n",
       "      <td>Algeria</td>\n",
       "      <td>2007</td>\n",
       "      <td>3950.513625</td>\n",
       "    </tr>\n",
       "    <tr>\n",
       "      <th>4</th>\n",
       "      <td>Algeria</td>\n",
       "      <td>2008</td>\n",
       "      <td>4923.630825</td>\n",
       "    </tr>\n",
       "  </tbody>\n",
       "</table>\n",
       "</div>"
      ],
      "text/plain": [
       "   Country  Year  gdp_per_capita\n",
       "0  Algeria  2004     2610.182686\n",
       "1  Algeria  2005     3113.094277\n",
       "2  Algeria  2006     3478.709639\n",
       "3  Algeria  2007     3950.513625\n",
       "4  Algeria  2008     4923.630825"
      ]
     },
     "execution_count": 26,
     "metadata": {},
     "output_type": "execute_result"
    }
   ],
   "source": [
    "countries_not_in_prod = set(gdp_pc.Country.unique()).difference(set(prod.Country.unique()))\n",
    "bool_series = [country in countries_not_in_prod for country in gdp_pc.Country]\n",
    "labels = gdp_pc[bool_series].index\n",
    "gdp_pc.drop(labels, inplace=True)\n",
    "\n",
    "gdp_pc.Year = gdp_pc.Year.astype(np.int64)\n",
    "gdp_pc = gdp_pc.sort_values(by=['Country', 'Year'])\n",
    "indx = pd.Index(np.arange(gdp_pc.shape[0]))\n",
    "gdp_pc.set_index(indx, inplace=True)\n",
    "gdp_pc.head()"
   ]
  },
  {
   "cell_type": "code",
   "execution_count": 64,
   "metadata": {},
   "outputs": [],
   "source": [
    "supply = supply.sort_values(by=['Country', 'Year'])"
   ]
  },
  {
   "cell_type": "markdown",
   "metadata": {},
   "source": [
    " "
   ]
  },
  {
   "cell_type": "markdown",
   "metadata": {},
   "source": [
    "# Univariate Analysis"
   ]
  },
  {
   "cell_type": "code",
   "execution_count": 27,
   "metadata": {
    "scrolled": false
   },
   "outputs": [
    {
     "data": {
      "text/html": [
       "<div>\n",
       "<style scoped>\n",
       "    .dataframe tbody tr th:only-of-type {\n",
       "        vertical-align: middle;\n",
       "    }\n",
       "\n",
       "    .dataframe tbody tr th {\n",
       "        vertical-align: top;\n",
       "    }\n",
       "\n",
       "    .dataframe thead th {\n",
       "        text-align: right;\n",
       "    }\n",
       "</style>\n",
       "<table border=\"1\" class=\"dataframe\">\n",
       "  <thead>\n",
       "    <tr style=\"text-align: right;\">\n",
       "      <th></th>\n",
       "      <th>count</th>\n",
       "      <th>unique</th>\n",
       "      <th>top</th>\n",
       "      <th>freq</th>\n",
       "    </tr>\n",
       "  </thead>\n",
       "  <tbody>\n",
       "    <tr>\n",
       "      <th>Country</th>\n",
       "      <td>23110</td>\n",
       "      <td>45</td>\n",
       "      <td>United Republic of Tanzania</td>\n",
       "      <td>790</td>\n",
       "    </tr>\n",
       "    <tr>\n",
       "      <th>Item</th>\n",
       "      <td>23110</td>\n",
       "      <td>94</td>\n",
       "      <td>Offals, Edible</td>\n",
       "      <td>450</td>\n",
       "    </tr>\n",
       "  </tbody>\n",
       "</table>\n",
       "</div>"
      ],
      "text/plain": [
       "         count unique                          top freq\n",
       "Country  23110     45  United Republic of Tanzania  790\n",
       "Item     23110     94               Offals, Edible  450"
      ]
     },
     "execution_count": 27,
     "metadata": {},
     "output_type": "execute_result"
    }
   ],
   "source": [
    "prod.describe(include=['O']).T"
   ]
  },
  {
   "cell_type": "code",
   "execution_count": 28,
   "metadata": {
    "scrolled": true
   },
   "outputs": [
    {
     "data": {
      "text/html": [
       "<div>\n",
       "<style scoped>\n",
       "    .dataframe tbody tr th:only-of-type {\n",
       "        vertical-align: middle;\n",
       "    }\n",
       "\n",
       "    .dataframe tbody tr th {\n",
       "        vertical-align: top;\n",
       "    }\n",
       "\n",
       "    .dataframe thead th {\n",
       "        text-align: right;\n",
       "    }\n",
       "</style>\n",
       "<table border=\"1\" class=\"dataframe\">\n",
       "  <thead>\n",
       "    <tr style=\"text-align: right;\">\n",
       "      <th></th>\n",
       "      <th>Year</th>\n",
       "      <th>Value</th>\n",
       "    </tr>\n",
       "  </thead>\n",
       "  <tbody>\n",
       "    <tr>\n",
       "      <th>count</th>\n",
       "      <td>450.000000</td>\n",
       "      <td>4.500000e+02</td>\n",
       "    </tr>\n",
       "    <tr>\n",
       "      <th>mean</th>\n",
       "      <td>2008.500000</td>\n",
       "      <td>2.469776e+06</td>\n",
       "    </tr>\n",
       "    <tr>\n",
       "      <th>std</th>\n",
       "      <td>2.875478</td>\n",
       "      <td>3.791401e+05</td>\n",
       "    </tr>\n",
       "    <tr>\n",
       "      <th>min</th>\n",
       "      <td>2004.000000</td>\n",
       "      <td>1.781000e+06</td>\n",
       "    </tr>\n",
       "    <tr>\n",
       "      <th>25%</th>\n",
       "      <td>2006.000000</td>\n",
       "      <td>2.174000e+06</td>\n",
       "    </tr>\n",
       "    <tr>\n",
       "      <th>50%</th>\n",
       "      <td>2008.500000</td>\n",
       "      <td>2.376000e+06</td>\n",
       "    </tr>\n",
       "    <tr>\n",
       "      <th>75%</th>\n",
       "      <td>2011.000000</td>\n",
       "      <td>2.681750e+06</td>\n",
       "    </tr>\n",
       "    <tr>\n",
       "      <th>max</th>\n",
       "      <td>2013.000000</td>\n",
       "      <td>3.561000e+06</td>\n",
       "    </tr>\n",
       "  </tbody>\n",
       "</table>\n",
       "</div>"
      ],
      "text/plain": [
       "              Year         Value\n",
       "count   450.000000  4.500000e+02\n",
       "mean   2008.500000  2.469776e+06\n",
       "std       2.875478  3.791401e+05\n",
       "min    2004.000000  1.781000e+06\n",
       "25%    2006.000000  2.174000e+06\n",
       "50%    2008.500000  2.376000e+06\n",
       "75%    2011.000000  2.681750e+06\n",
       "max    2013.000000  3.561000e+06"
      ]
     },
     "execution_count": 28,
     "metadata": {},
     "output_type": "execute_result"
    }
   ],
   "source": [
    "supply.describe()"
   ]
  },
  {
   "cell_type": "code",
   "execution_count": 29,
   "metadata": {
    "scrolled": false
   },
   "outputs": [
    {
     "data": {
      "text/html": [
       "<div>\n",
       "<style scoped>\n",
       "    .dataframe tbody tr th:only-of-type {\n",
       "        vertical-align: middle;\n",
       "    }\n",
       "\n",
       "    .dataframe tbody tr th {\n",
       "        vertical-align: top;\n",
       "    }\n",
       "\n",
       "    .dataframe thead th {\n",
       "        text-align: right;\n",
       "    }\n",
       "</style>\n",
       "<table border=\"1\" class=\"dataframe\">\n",
       "  <thead>\n",
       "    <tr style=\"text-align: right;\">\n",
       "      <th></th>\n",
       "      <th>Year</th>\n",
       "      <th>Value</th>\n",
       "    </tr>\n",
       "  </thead>\n",
       "  <tbody>\n",
       "    <tr>\n",
       "      <th>count</th>\n",
       "      <td>23110.000000</td>\n",
       "      <td>2.311000e+04</td>\n",
       "    </tr>\n",
       "    <tr>\n",
       "      <th>mean</th>\n",
       "      <td>2008.498269</td>\n",
       "      <td>3.277852e+05</td>\n",
       "    </tr>\n",
       "    <tr>\n",
       "      <th>std</th>\n",
       "      <td>2.871740</td>\n",
       "      <td>1.607940e+06</td>\n",
       "    </tr>\n",
       "    <tr>\n",
       "      <th>min</th>\n",
       "      <td>2004.000000</td>\n",
       "      <td>0.000000e+00</td>\n",
       "    </tr>\n",
       "    <tr>\n",
       "      <th>25%</th>\n",
       "      <td>2006.000000</td>\n",
       "      <td>3.000000e+03</td>\n",
       "    </tr>\n",
       "    <tr>\n",
       "      <th>50%</th>\n",
       "      <td>2008.000000</td>\n",
       "      <td>1.800000e+04</td>\n",
       "    </tr>\n",
       "    <tr>\n",
       "      <th>75%</th>\n",
       "      <td>2011.000000</td>\n",
       "      <td>1.080000e+05</td>\n",
       "    </tr>\n",
       "    <tr>\n",
       "      <th>max</th>\n",
       "      <td>2013.000000</td>\n",
       "      <td>5.400000e+07</td>\n",
       "    </tr>\n",
       "  </tbody>\n",
       "</table>\n",
       "</div>"
      ],
      "text/plain": [
       "               Year         Value\n",
       "count  23110.000000  2.311000e+04\n",
       "mean    2008.498269  3.277852e+05\n",
       "std        2.871740  1.607940e+06\n",
       "min     2004.000000  0.000000e+00\n",
       "25%     2006.000000  3.000000e+03\n",
       "50%     2008.000000  1.800000e+04\n",
       "75%     2011.000000  1.080000e+05\n",
       "max     2013.000000  5.400000e+07"
      ]
     },
     "execution_count": 29,
     "metadata": {},
     "output_type": "execute_result"
    }
   ],
   "source": [
    "prod.describe()"
   ]
  },
  {
   "cell_type": "markdown",
   "metadata": {},
   "source": [
    "<pre>There is a stark reality in the production-consumption disparity:\n",
    "    Africa-wide:\n",
    "    <b>median</b> quantity of food <b><u><i>produced</i></u></b> == <b>18,000</b> tonnes \n",
    "    <b>median</b> quantity of food <b><u><i>consumed</i></u></b> == <b>2,376,000</b> tonnes\n",
    "<!--     Statistically significant defict of === 2,192 tonnes; p-value approx 0 <b>(see proof below)</b> -->\n",
    "\n",
    "How is this deficit supplied?:\n",
    "    1. imports?\n",
    "    2. or low level reporting of production values?</pre>"
   ]
  },
  {
   "cell_type": "code",
   "execution_count": 472,
   "metadata": {
    "scrolled": false
   },
   "outputs": [
    {
     "data": {
      "text/html": [
       "<div>\n",
       "<style scoped>\n",
       "    .dataframe tbody tr th:only-of-type {\n",
       "        vertical-align: middle;\n",
       "    }\n",
       "\n",
       "    .dataframe tbody tr th {\n",
       "        vertical-align: top;\n",
       "    }\n",
       "\n",
       "    .dataframe thead th {\n",
       "        text-align: right;\n",
       "    }\n",
       "</style>\n",
       "<table border=\"1\" class=\"dataframe\">\n",
       "  <thead>\n",
       "    <tr style=\"text-align: right;\">\n",
       "      <th></th>\n",
       "      <th>Year</th>\n",
       "      <th>gdp_per_capita</th>\n",
       "    </tr>\n",
       "  </thead>\n",
       "  <tbody>\n",
       "    <tr>\n",
       "      <th>count</th>\n",
       "      <td>450.000000</td>\n",
       "      <td>450.000000</td>\n",
       "    </tr>\n",
       "    <tr>\n",
       "      <th>mean</th>\n",
       "      <td>2008.500000</td>\n",
       "      <td>1909.705797</td>\n",
       "    </tr>\n",
       "    <tr>\n",
       "      <th>std</th>\n",
       "      <td>2.875478</td>\n",
       "      <td>2080.755296</td>\n",
       "    </tr>\n",
       "    <tr>\n",
       "      <th>min</th>\n",
       "      <td>2004.000000</td>\n",
       "      <td>133.832176</td>\n",
       "    </tr>\n",
       "    <tr>\n",
       "      <th>25%</th>\n",
       "      <td>2006.000000</td>\n",
       "      <td>557.286318</td>\n",
       "    </tr>\n",
       "    <tr>\n",
       "      <th>50%</th>\n",
       "      <td>2008.500000</td>\n",
       "      <td>969.520017</td>\n",
       "    </tr>\n",
       "    <tr>\n",
       "      <th>75%</th>\n",
       "      <td>2011.000000</td>\n",
       "      <td>2579.105712</td>\n",
       "    </tr>\n",
       "    <tr>\n",
       "      <th>max</th>\n",
       "      <td>2013.000000</td>\n",
       "      <td>10795.522269</td>\n",
       "    </tr>\n",
       "  </tbody>\n",
       "</table>\n",
       "</div>"
      ],
      "text/plain": [
       "              Year  gdp_per_capita\n",
       "count   450.000000      450.000000\n",
       "mean   2008.500000     1909.705797\n",
       "std       2.875478     2080.755296\n",
       "min    2004.000000      133.832176\n",
       "25%    2006.000000      557.286318\n",
       "50%    2008.500000      969.520017\n",
       "75%    2011.000000     2579.105712\n",
       "max    2013.000000    10795.522269"
      ]
     },
     "execution_count": 472,
     "metadata": {},
     "output_type": "execute_result"
    }
   ],
   "source": [
    "gdp_pc.describe()"
   ]
  },
  {
   "cell_type": "code",
   "execution_count": 473,
   "metadata": {
    "scrolled": true
   },
   "outputs": [
    {
     "data": {
      "text/html": [
       "<div>\n",
       "<style scoped>\n",
       "    .dataframe tbody tr th:only-of-type {\n",
       "        vertical-align: middle;\n",
       "    }\n",
       "\n",
       "    .dataframe tbody tr th {\n",
       "        vertical-align: top;\n",
       "    }\n",
       "\n",
       "    .dataframe thead th {\n",
       "        text-align: right;\n",
       "    }\n",
       "</style>\n",
       "<table border=\"1\" class=\"dataframe\">\n",
       "  <thead>\n",
       "    <tr style=\"text-align: right;\">\n",
       "      <th></th>\n",
       "      <th>Year</th>\n",
       "      <th>Population</th>\n",
       "    </tr>\n",
       "  </thead>\n",
       "  <tbody>\n",
       "    <tr>\n",
       "      <th>count</th>\n",
       "      <td>450.000000</td>\n",
       "      <td>4.500000e+02</td>\n",
       "    </tr>\n",
       "    <tr>\n",
       "      <th>mean</th>\n",
       "      <td>2008.500000</td>\n",
       "      <td>2.001937e+07</td>\n",
       "    </tr>\n",
       "    <tr>\n",
       "      <th>std</th>\n",
       "      <td>2.875478</td>\n",
       "      <td>2.765577e+07</td>\n",
       "    </tr>\n",
       "    <tr>\n",
       "      <th>min</th>\n",
       "      <td>2004.000000</td>\n",
       "      <td>1.537360e+05</td>\n",
       "    </tr>\n",
       "    <tr>\n",
       "      <th>25%</th>\n",
       "      <td>2006.000000</td>\n",
       "      <td>3.117844e+06</td>\n",
       "    </tr>\n",
       "    <tr>\n",
       "      <th>50%</th>\n",
       "      <td>2008.500000</td>\n",
       "      <td>1.204830e+07</td>\n",
       "    </tr>\n",
       "    <tr>\n",
       "      <th>75%</th>\n",
       "      <td>2011.000000</td>\n",
       "      <td>2.348774e+07</td>\n",
       "    </tr>\n",
       "    <tr>\n",
       "      <th>max</th>\n",
       "      <td>2013.000000</td>\n",
       "      <td>1.717658e+08</td>\n",
       "    </tr>\n",
       "  </tbody>\n",
       "</table>\n",
       "</div>"
      ],
      "text/plain": [
       "              Year    Population\n",
       "count   450.000000  4.500000e+02\n",
       "mean   2008.500000  2.001937e+07\n",
       "std       2.875478  2.765577e+07\n",
       "min    2004.000000  1.537360e+05\n",
       "25%    2006.000000  3.117844e+06\n",
       "50%    2008.500000  1.204830e+07\n",
       "75%    2011.000000  2.348774e+07\n",
       "max    2013.000000  1.717658e+08"
      ]
     },
     "execution_count": 473,
     "metadata": {},
     "output_type": "execute_result"
    }
   ],
   "source": [
    "population.describe()"
   ]
  },
  {
   "cell_type": "code",
   "execution_count": 30,
   "metadata": {
    "scrolled": false
   },
   "outputs": [
    {
     "data": {
      "image/png": "[encoded data removed]",
      "text/plain": [
       "<matplotlib.figure.Figure at 0x7f2970ab3e48>"
      ]
     },
     "metadata": {},
     "output_type": "display_data"
    },
    {
     "data": {
      "image/png": "[encoded data removed]",
      "text/plain": [
       "<matplotlib.figure.Figure at 0x7f2970ab3eb8>"
      ]
     },
     "metadata": {},
     "output_type": "display_data"
    }
   ],
   "source": [
    "sns.set(color_codes=True)\n",
    "\n",
    "for df in [supply, prod]:\n",
    "    summary = df.describe()\n",
    "    sns.kdeplot(df.Value, shade=True)\n",
    "    \n",
    "    plt.axvline(df.Value.mean(), 0, 1, color='black')         # Mean\n",
    "    plt.axvline(df.Value.median(), 0, 1, color='magenta')     # Median\n",
    "    plt.axvline(summary['Value']['25%'], 0, 1, color='green') # Q1\n",
    "    plt.axvline(summary['Value']['75%'], 0, 1, color='green') # Q3\n",
    "\n",
    "    IQR = summary['Value']['75%'] - summary['Value']['25%']   # IQR\n",
    "\n",
    "    upper_outliers = summary['Value']['75%'] + 1.5*IQR        # Q3 + 1.5*IQR\n",
    "    lower_outliers = summary['Value']['25%'] - 1.5*IQR        # Q1 - 1.5IQR\n",
    "\n",
    "    plt.axvline(upper_outliers, 0, 1, color='orange')         # Upper Outlier\n",
    "    plt.axvline(lower_outliers, 0, 1, color='orange')         # Lower Outlier\n",
    "    ax = plt.gca()\n",
    "    ax.set_facecolor('white')\n",
    "    plt.show();\n",
    "    \n",
    "#     Add relevant labels for storytelling\n",
    "\n",
    "# sns.kdeplot(np.log10(df.Value+1), shade=True)"
   ]
  },
  {
   "cell_type": "code",
   "execution_count": 31,
   "metadata": {},
   "outputs": [
    {
     "data": {
      "image/png": "[encoded data removed]",
      "text/plain": [
       "<matplotlib.figure.Figure at 0x7f296e9503c8>"
      ]
     },
     "metadata": {},
     "output_type": "display_data"
    },
    {
     "data": {
      "image/png": "[encoded data removed]",
      "text/plain": [
       "<matplotlib.figure.Figure at 0x7f296e8ea0f0>"
      ]
     },
     "metadata": {},
     "output_type": "display_data"
    }
   ],
   "source": [
    "for df, v in [(population,'Population'), (gdp_pc,'gdp_per_capita')]:\n",
    "    summary = df.describe()\n",
    "    sns.kdeplot(df[v], shade=True)\n",
    "    \n",
    "    plt.axvline(df[v].mean(), 0, 1, color='black')         # Mean\n",
    "    plt.axvline(df[v].median(), 0, 1, color='magenta')     # Median\n",
    "    plt.axvline(summary[v]['25%'], 0, 1, color='green') # Q1\n",
    "    plt.axvline(summary[v]['75%'], 0, 1, color='green') # Q3\n",
    "\n",
    "    IQR = summary[v]['75%'] - summary[v]['25%']   # IQR\n",
    "\n",
    "    upper_outliers = summary[v]['75%'] + 1.5*IQR        # Q3 + 1.5*IQR\n",
    "    lower_outliers = summary[v]['25%'] - 1.5*IQR        # Q1 - 1.5IQR\n",
    "\n",
    "    plt.axvline(upper_outliers, 0, 1, color='orange')         # Upper Outlier\n",
    "    plt.axvline(lower_outliers, 0, 1, color='orange')         # Lower Outlier\n",
    "    ax = plt.gca()\n",
    "    ax.set_facecolor('white')\n",
    "    plt.show();"
   ]
  },
  {
   "cell_type": "code",
   "execution_count": 32,
   "metadata": {
    "scrolled": true
   },
   "outputs": [
    {
     "data": {
      "image/png": "[encoded data removed]",
      "text/plain": [
       "<matplotlib.figure.Figure at 0x7f2970a94e80>"
      ]
     },
     "metadata": {},
     "output_type": "display_data"
    }
   ],
   "source": [
    "# box plots\n",
    "# sns.boxplot(x='GRE Score', data=admission_data, orient='v')\n",
    "plt.figure(figsize=(10,5))\n",
    "\n",
    "plt.subplot(221)\n",
    "sns.boxplot(x=supply.Value/1000)#, color = '#F15B2A')\n",
    "ax = plt.gca()\n",
    "ax.set_facecolor('white')\n",
    "\n",
    "plt.subplot(222)\n",
    "sns.violinplot(x=supply.Value/1000)\n",
    "# plt.violinplot(supply.Value, showmeans=True, showmedians=True, vert=False)\n",
    "\n",
    "plt.subplot(223)\n",
    "sns.boxplot(x=prod.Value/1000)#, color = '#F15B2A')\n",
    "ax = plt.gca()\n",
    "ax.set_facecolor('white')\n",
    "\n",
    "plt.subplot(224)\n",
    "sns.violinplot(x=prod.Value/1000)\n",
    "\n",
    "\n",
    "plt.tight_layout()"
   ]
  },
  {
   "cell_type": "code",
   "execution_count": 33,
   "metadata": {},
   "outputs": [
    {
     "data": {
      "image/png": "[encoded data removed]",
      "text/plain": [
       "<matplotlib.figure.Figure at 0x7f296e736c50>"
      ]
     },
     "metadata": {},
     "output_type": "display_data"
    }
   ],
   "source": [
    "plt.figure(figsize=(10,5))\n",
    "\n",
    "plt.subplot(221)\n",
    "sns.boxplot(x=population.Population)\n",
    "ax = plt.gca()\n",
    "ax.set_facecolor('white')\n",
    "\n",
    "plt.subplot(222)\n",
    "sns.violinplot(x=population.Population)\n",
    "\n",
    "plt.subplot(223)\n",
    "sns.boxplot(x=gdp_pc.gdp_per_capita)\n",
    "ax = plt.gca()\n",
    "ax.set_facecolor('white')\n",
    "\n",
    "plt.subplot(224)\n",
    "sns.violinplot(x=gdp_pc.gdp_per_capita)\n",
    "\n",
    "plt.tight_layout()"
   ]
  },
  {
   "cell_type": "code",
   "execution_count": null,
   "metadata": {},
   "outputs": [],
   "source": []
  },
  {
   "cell_type": "code",
   "execution_count": null,
   "metadata": {},
   "outputs": [],
   "source": []
  },
  {
   "cell_type": "code",
   "execution_count": 34,
   "metadata": {},
   "outputs": [
    {
     "data": {
      "image/png": "[encoded data removed]",
      "text/plain": [
       "<matplotlib.figure.Figure at 0x7f2970c7a3c8>"
      ]
     },
     "metadata": {},
     "output_type": "display_data"
    },
    {
     "data": {
      "image/png": "[encoded data removed]",
      "text/plain": [
       "<matplotlib.figure.Figure at 0x7f296e62bf28>"
      ]
     },
     "metadata": {},
     "output_type": "display_data"
    }
   ],
   "source": [
    "for df in [prod, supply]:\n",
    "    series = df.groupby('Country').Value.median().sort_values()\n",
    "    plt.figure(figsize=(5,10))\n",
    "    sns.barplot(x=series, y=series.index)\n",
    "    ax = plt.gca()\n",
    "    ax.set_facecolor('white')\n",
    "    plt.show()"
   ]
  },
  {
   "cell_type": "code",
   "execution_count": 35,
   "metadata": {},
   "outputs": [
    {
     "data": {
      "image/png": "[encoded data removed]",
      "text/plain": [
       "<matplotlib.figure.Figure at 0x7f296e62be80>"
      ]
     },
     "metadata": {},
     "output_type": "display_data"
    },
    {
     "data": {
      "image/png": "[encoded data removed]",
      "text/plain": [
       "<matplotlib.figure.Figure at 0x7f296e4a71d0>"
      ]
     },
     "metadata": {},
     "output_type": "display_data"
    }
   ],
   "source": [
    "for df, v in [(population,'Population'), (gdp_pc, 'gdp_per_capita')]:\n",
    "    series = df.groupby('Country')[v].median().sort_values()\n",
    "    plt.figure(figsize=(5,10))\n",
    "    sns.barplot(x=series, y=series.index)\n",
    "    ax = plt.gca()\n",
    "    ax.set_facecolor('white')\n",
    "    plt.show()"
   ]
  },
  {
   "cell_type": "code",
   "execution_count": null,
   "metadata": {},
   "outputs": [],
   "source": []
  },
  {
   "cell_type": "code",
   "execution_count": 36,
   "metadata": {},
   "outputs": [],
   "source": [
    "def melt_by_year(df, column):\n",
    "    temp = df.groupby('Year')[column].describe().reset_index()\n",
    "    temp['IQR'] = temp['75%'] - temp['25%']\n",
    "    temp.rename(columns={'50%':'median'}, inplace=True)\n",
    "    temp = pd.melt(temp,\n",
    "                   id_vars=['Year'],\n",
    "                   value_vars=['mean','median','std'],#,'IQR'],\n",
    "                   value_name=column,\n",
    "                   var_name='Statistic'\n",
    "                  )\n",
    "    \n",
    "    return temp"
   ]
  },
  {
   "cell_type": "code",
   "execution_count": 37,
   "metadata": {
    "scrolled": true
   },
   "outputs": [
    {
     "data": {
      "text/html": [
       "<div>\n",
       "<style scoped>\n",
       "    .dataframe tbody tr th:only-of-type {\n",
       "        vertical-align: middle;\n",
       "    }\n",
       "\n",
       "    .dataframe tbody tr th {\n",
       "        vertical-align: top;\n",
       "    }\n",
       "\n",
       "    .dataframe thead th {\n",
       "        text-align: right;\n",
       "    }\n",
       "</style>\n",
       "<table border=\"1\" class=\"dataframe\">\n",
       "  <thead>\n",
       "    <tr style=\"text-align: right;\">\n",
       "      <th></th>\n",
       "      <th>Year</th>\n",
       "      <th>Statistic</th>\n",
       "      <th>Value</th>\n",
       "    </tr>\n",
       "  </thead>\n",
       "  <tbody>\n",
       "    <tr>\n",
       "      <th>9</th>\n",
       "      <td>2013</td>\n",
       "      <td>mean</td>\n",
       "      <td>2.532244e+06</td>\n",
       "    </tr>\n",
       "    <tr>\n",
       "      <th>29</th>\n",
       "      <td>2013</td>\n",
       "      <td>std</td>\n",
       "      <td>3.968613e+05</td>\n",
       "    </tr>\n",
       "    <tr>\n",
       "      <th>7</th>\n",
       "      <td>2011</td>\n",
       "      <td>mean</td>\n",
       "      <td>2.515422e+06</td>\n",
       "    </tr>\n",
       "    <tr>\n",
       "      <th>11</th>\n",
       "      <td>2005</td>\n",
       "      <td>median</td>\n",
       "      <td>2.311000e+06</td>\n",
       "    </tr>\n",
       "    <tr>\n",
       "      <th>3</th>\n",
       "      <td>2007</td>\n",
       "      <td>mean</td>\n",
       "      <td>2.447756e+06</td>\n",
       "    </tr>\n",
       "    <tr>\n",
       "      <th>21</th>\n",
       "      <td>2005</td>\n",
       "      <td>std</td>\n",
       "      <td>3.647288e+05</td>\n",
       "    </tr>\n",
       "    <tr>\n",
       "      <th>14</th>\n",
       "      <td>2008</td>\n",
       "      <td>median</td>\n",
       "      <td>2.439000e+06</td>\n",
       "    </tr>\n",
       "    <tr>\n",
       "      <th>24</th>\n",
       "      <td>2008</td>\n",
       "      <td>std</td>\n",
       "      <td>3.788951e+05</td>\n",
       "    </tr>\n",
       "    <tr>\n",
       "      <th>26</th>\n",
       "      <td>2010</td>\n",
       "      <td>std</td>\n",
       "      <td>3.857573e+05</td>\n",
       "    </tr>\n",
       "    <tr>\n",
       "      <th>27</th>\n",
       "      <td>2011</td>\n",
       "      <td>std</td>\n",
       "      <td>3.837285e+05</td>\n",
       "    </tr>\n",
       "  </tbody>\n",
       "</table>\n",
       "</div>"
      ],
      "text/plain": [
       "    Year Statistic         Value\n",
       "9   2013      mean  2.532244e+06\n",
       "29  2013       std  3.968613e+05\n",
       "7   2011      mean  2.515422e+06\n",
       "11  2005    median  2.311000e+06\n",
       "3   2007      mean  2.447756e+06\n",
       "21  2005       std  3.647288e+05\n",
       "14  2008    median  2.439000e+06\n",
       "24  2008       std  3.788951e+05\n",
       "26  2010       std  3.857573e+05\n",
       "27  2011       std  3.837285e+05"
      ]
     },
     "execution_count": 37,
     "metadata": {},
     "output_type": "execute_result"
    }
   ],
   "source": [
    "melt_by_year(supply, 'Value').sample(10)"
   ]
  },
  {
   "cell_type": "code",
   "execution_count": 62,
   "metadata": {
    "scrolled": true
   },
   "outputs": [
    {
     "data": {
      "image/png": "[encoded data removed]",
      "text/plain": [
       "<matplotlib.figure.Figure at 0x7f296e8dd208>"
      ]
     },
     "metadata": {},
     "output_type": "display_data"
    }
   ],
   "source": [
    "plt.figure(figsize=(20,8))\n",
    "for indx, df, title in [(1,prod,'Production'), (2,supply,'Consumption')]:\n",
    "    plt.subplot(1,2, indx)\n",
    "    sns.lineplot(x='Year', y='Value', hue='Statistic',\n",
    "                 data = melt_by_year(df, 'Value'),\n",
    "                 linewidth=3\n",
    "                )\n",
    "    sns.lineplot(x='Year', y='Value', data=df, color='blue')\n",
    "    plt.title(title, fontdict={'fontsize':20})\n",
    "    axes = plt.gca()\n",
    "    axes.set_ylim([0,melt_by_year(df, 'Value')['Value'].max()])\n",
    "    axes.set_facecolor('white')\n",
    "    leg = plt.legend()\n",
    "    for line in leg.get_lines():\n",
    "        line.set_linewidth(4)\n",
    "    for text in leg.get_texts():\n",
    "        text.set_fontsize('x-large')\n",
    "\n",
    "\n",
    "plt.show()"
   ]
  },
  {
   "cell_type": "markdown",
   "metadata": {},
   "source": [
    "* The mean **Consumption** rate is **ten times** the quantity of **Production** in Africa. This observation occurs with a steady increase over the years.<br>\n",
    "$t-test= -103.13$, $p-value=0.000$, dissimilar variances assumed. *See proof below*\n",
    "* Large range of values of the Standard deviation in Production reveals a **much** wider variability in Production compared to Consumption. A steady increase in this variability (the green line)is observed for Production (but fairly constant for Consumption)"
   ]
  },
  {
   "cell_type": "code",
   "execution_count": 63,
   "metadata": {
    "scrolled": true
   },
   "outputs": [
    {
     "name": "stdout",
     "output_type": "stream",
     "text": [
      "mean quantity of food produced = 277629.45\n",
      "mean quantity of food consumed = 2,469,775.56\n",
      "\n",
      "True\n",
      "\n",
      "Ttest_indResult(statistic=-80.61449341621031, pvalue=0.0) with similar variances assumed (& equal shapes)\n",
      "Ttest_indResult(statistic=-103.13835021455829, pvalue=0.0) with disimilar variances assumed\n"
     ]
    }
   ],
   "source": [
    "prod_values = prod.groupby(by=['Country', 'Year'], \n",
    "                           as_index=False).Value.mean().loc[:,'Value']\n",
    "\n",
    "print(\"mean quantity of food produced =\", round(prod_values.mean(), 2))\n",
    "print(\"mean quantity of food consumed =\", f'{supply.Value.mean():,.2f}')\n",
    "print('')\n",
    "print(prod_values.shape == supply.Value.shape)\n",
    "print('')\n",
    "# t-test done with similar array shapes, similar variances\n",
    "print(stats.ttest_ind(prod_values, supply.Value),\n",
    "      \"with similar variances assumed (& equal shapes)\") \n",
    "\n",
    "print(stats.ttest_ind(prod.Value, supply.Value, equal_var=False),\n",
    "      \"with disimilar variances assumed\") # disimilar shapes, disimilar variances"
   ]
  },
  {
   "cell_type": "code",
   "execution_count": 40,
   "metadata": {},
   "outputs": [
    {
     "data": {
      "text/plain": [
       "2008.0"
      ]
     },
     "execution_count": 40,
     "metadata": {},
     "output_type": "execute_result"
    }
   ],
   "source": [
    "prod.Year.median()"
   ]
  },
  {
   "cell_type": "markdown",
   "metadata": {},
   "source": [
    "The average daily required nutritional calorie per day for an individual in Africa is **2,043 cal**.<br>This was calculated by adjusting for Calorie (by age and sex)$^1$, then weighted by percentage of population by age and sex$^2$. <br> These calculations were base of 2008 being the median Year ``prod['Year'].median()``\n",
    "\n",
    "Calorie to Tonnes conversion factor$^3$ is `1 /  7716179.1764707`<br>\n",
    "Given the above values:\n",
    "   * we can calculate Total **calorie required** per year per country, then convert to metric tonnes\n",
    "   *  `supply['Value']` gives us Total **calorie consumed** in tonnes.\n",
    "\n",
    "<br> With these, we can estimate calorie deficit and answer the questions:\n",
    "* Is there a nutritional gap?\n",
    "* How well does Africa feed?:\n",
    "    * Adequate nutrition? or\n",
    "    * Malnutrition?\n",
    "* Which select countries are under nourished( and adequately nourished)\n",
    "* In these select countries what are their respective Production *versus* Consumption patterns (compared to the Continental averages)\n",
    "    \n",
    "\n",
    "sources:<br>\n",
    "1 https://health.gov/our-work/food-nutrition/2015-2020-dietary-guidelines/guidelines/appendix-2/ <br>\n",
    "2 https://www.populationpyramid.net/africa/2008/<br>\n",
    "3 https://www.convertunits.com/from/calories/to/metric+ton\n"
   ]
  },
  {
   "cell_type": "code",
   "execution_count": 41,
   "metadata": {},
   "outputs": [
    {
     "data": {
      "text/plain": [
       "1.2959782000000027e-07"
      ]
     },
     "execution_count": 41,
     "metadata": {},
     "output_type": "execute_result"
    }
   ],
   "source": [
    "factor = 1 / 7716179.1764707\n",
    "factor "
   ]
  },
  {
   "cell_type": "code",
   "execution_count": 42,
   "metadata": {},
   "outputs": [],
   "source": [
    "def get_population_values():\n",
    "    indx = pd.IndexSlice\n",
    "    temp_pop = population.set_index(['Country','Year'])\n",
    "    population_values = []\n",
    "    \n",
    "    for row in supply.iterrows():\n",
    "        country = row[1]['Country']\n",
    "        year = row[1]['Year']\n",
    "        pop = temp_pop.loc[indx[country, year]]['Population']\n",
    "        population_values.append(pop)\n",
    "    \n",
    "    population_values = pd.Series(population_values)\n",
    "    \n",
    "    return population_values"
   ]
  },
  {
   "cell_type": "code",
   "execution_count": 45,
   "metadata": {},
   "outputs": [
    {
     "data": {
      "text/html": [
       "<div>\n",
       "<style scoped>\n",
       "    .dataframe tbody tr th:only-of-type {\n",
       "        vertical-align: middle;\n",
       "    }\n",
       "\n",
       "    .dataframe tbody tr th {\n",
       "        vertical-align: top;\n",
       "    }\n",
       "\n",
       "    .dataframe thead th {\n",
       "        text-align: right;\n",
       "    }\n",
       "</style>\n",
       "<table border=\"1\" class=\"dataframe\">\n",
       "  <thead>\n",
       "    <tr style=\"text-align: right;\">\n",
       "      <th></th>\n",
       "      <th>Country</th>\n",
       "      <th>Year</th>\n",
       "      <th>Value</th>\n",
       "      <th>required</th>\n",
       "    </tr>\n",
       "  </thead>\n",
       "  <tbody>\n",
       "    <tr>\n",
       "      <th>0</th>\n",
       "      <td>Algeria</td>\n",
       "      <td>2004</td>\n",
       "      <td>2987000</td>\n",
       "      <td>3159384.26</td>\n",
       "    </tr>\n",
       "    <tr>\n",
       "      <th>1</th>\n",
       "      <td>Algeria</td>\n",
       "      <td>2005</td>\n",
       "      <td>2958000</td>\n",
       "      <td>3203603.74</td>\n",
       "    </tr>\n",
       "    <tr>\n",
       "      <th>2</th>\n",
       "      <td>Algeria</td>\n",
       "      <td>2006</td>\n",
       "      <td>3047000</td>\n",
       "      <td>3251081.93</td>\n",
       "    </tr>\n",
       "    <tr>\n",
       "      <th>3</th>\n",
       "      <td>Algeria</td>\n",
       "      <td>2007</td>\n",
       "      <td>3041000</td>\n",
       "      <td>3301911.81</td>\n",
       "    </tr>\n",
       "    <tr>\n",
       "      <th>4</th>\n",
       "      <td>Algeria</td>\n",
       "      <td>2008</td>\n",
       "      <td>3048000</td>\n",
       "      <td>3356381.07</td>\n",
       "    </tr>\n",
       "  </tbody>\n",
       "</table>\n",
       "</div>"
      ],
      "text/plain": [
       "   Country  Year    Value    required\n",
       "0  Algeria  2004  2987000  3159384.26\n",
       "1  Algeria  2005  2958000  3203603.74\n",
       "2  Algeria  2006  3047000  3251081.93\n",
       "3  Algeria  2007  3041000  3301911.81\n",
       "4  Algeria  2008  3048000  3356381.07"
      ]
     },
     "execution_count": 45,
     "metadata": {},
     "output_type": "execute_result"
    }
   ],
   "source": [
    "supply['required'] = (factor * 2043 * 365 * get_population_values()).round(2)\n",
    "supply.head()"
   ]
  },
  {
   "cell_type": "code",
   "execution_count": 46,
   "metadata": {
    "scrolled": true
   },
   "outputs": [
    {
     "data": {
      "image/png": "[encoded data removed]",
      "text/plain": [
       "<matplotlib.figure.Figure at 0x7f296e318080>"
      ]
     },
     "metadata": {},
     "output_type": "display_data"
    }
   ],
   "source": [
    "plt.figure(figsize=(20,8))\n",
    "for indx, df, column, title in [(1,supply, 'Value', 'Supplied'),\n",
    "                                (2,supply, 'required', 'Required')]:\n",
    "    plt.subplot(1,2, indx)\n",
    "    sns.lineplot(x='Year', y=column, hue='Statistic',\n",
    "                 data = melt_by_year(df, column),\n",
    "                 linewidth=3\n",
    "                )\n",
    "    sns.lineplot(x='Year', y=column, data=df, color='blue')\n",
    "    plt.title(title, fontdict={'fontsize':19})\n",
    "    axes = plt.gca()\n",
    "    axes.set_ylim([0,melt_by_year(df, 'required')['required'].max()])\n",
    "    axes.set_facecolor('white')\n",
    "    leg = plt.legend()\n",
    "    for line in leg.get_lines():\n",
    "        line.set_linewidth(4)\n",
    "    for text in leg.get_texts():\n",
    "        text.set_fontsize('x-large')\n",
    "\n",
    "\n",
    "plt.show()"
   ]
  },
  {
   "cell_type": "markdown",
   "metadata": {},
   "source": [
    "The mean quantity of food supplied for consumption in Africa is significantly$^1$ higher than required by approximately 10-fold$^2$.<br>\n",
    "Is Africa 'eating' more than is needed?<br>\n",
    "No!By apriori knowledge , there is widespread under-nutrition in Africa.<br>\n",
    "So what explains this 'over-supply' despite the under-nutrition?<br>\n",
    "Could it be:\n",
    "   * unequal food supply (the rich-poor disparity) or\n",
    "   * An inefficient food-supply chain leading to\n",
    "        * Food wastages in transit or\n",
    "        * Wastages from poor storage facilities<br>\n",
    "\n",
    "All these are conjectures requiring further data gathering and  analysis.\n",
    "\n",
    "$1._$ `stats.ttest_ind(supply.Value, supply.required, equal_var=False)`<br>\n",
    ".......`Ttest_indResult(statistic=4.205001415295241, pvalue=3.130260765349647e-05)`<br>\n",
    "\n",
    "$2._$ `(supply.Value / supply.required).mean().round()`<br>\n",
    ".......`10.0`\n",
    "\n"
   ]
  }
 ],
 "metadata": {
  "kernelspec": {
   "display_name": "Python 3",
   "language": "python",
   "name": "python3"
  },
  "language_info": {
   "codemirror_mode": {
    "name": "ipython",
    "version": 3
   },
   "file_extension": ".py",
   "mimetype": "text/x-python",
   "name": "python",
   "nbconvert_exporter": "python",
   "pygments_lexer": "ipython3",
   "version": "3.6.9"
  }
 },
 "nbformat": 4,
 "nbformat_minor": 2
}
