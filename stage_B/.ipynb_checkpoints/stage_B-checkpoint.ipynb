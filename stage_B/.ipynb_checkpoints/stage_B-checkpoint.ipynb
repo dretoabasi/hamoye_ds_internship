{
 "cells": [
  {
   "cell_type": "code",
   "execution_count": 9,
   "metadata": {},
   "outputs": [],
   "source": [
    "import matplotlib.pyplot as plt\n",
    "import seaborn as sns\n",
    "import plotly.graph_objects as go\n",
    "import pandas as pd\n",
    "import numpy as np"
   ]
  },
  {
   "cell_type": "code",
   "execution_count": 4,
   "metadata": {},
   "outputs": [],
   "source": [
    "df=pd.read_excel('https://archive.ics.uci.edu/ml/machine-learning-databases/00242/ENB2012_data.xlsx')\n",
    "#rename columns\n",
    "column_names = {'X1':'Relative_Compactness', 'X2': 'Surface_Area', \n",
    "                'X3':  'Wall_Area', 'X4': 'Roof_Area', 'X5': 'Overall_Height',\n",
    "                'X6': 'Orientation', 'X7': 'Glazing_Area', \n",
    "                'X8': 'Glazing_Area_Distribution', \n",
    "                'Y1': 'Heating_Load', 'Y2': 'Cooling_Load'}\n",
    "\n",
    "df = df.rename(columns=column_names)\n"
   ]
  },
  {
   "cell_type": "code",
   "execution_count": 6,
   "metadata": {},
   "outputs": [
    {
     "data": {
      "text/html": [
       "<div>\n",
       "<style scoped>\n",
       "    .dataframe tbody tr th:only-of-type {\n",
       "        vertical-align: middle;\n",
       "    }\n",
       "\n",
       "    .dataframe tbody tr th {\n",
       "        vertical-align: top;\n",
       "    }\n",
       "\n",
       "    .dataframe thead th {\n",
       "        text-align: right;\n",
       "    }\n",
       "</style>\n",
       "<table border=\"1\" class=\"dataframe\">\n",
       "  <thead>\n",
       "    <tr style=\"text-align: right;\">\n",
       "      <th></th>\n",
       "      <th>Relative_Compactness</th>\n",
       "      <th>Surface_Area</th>\n",
       "      <th>Wall_Area</th>\n",
       "      <th>Roof_Area</th>\n",
       "      <th>Overall_Height</th>\n",
       "      <th>Orientation</th>\n",
       "      <th>Glazing_Area</th>\n",
       "      <th>Glazing_Area_Distribution</th>\n",
       "      <th>Heating_Load</th>\n",
       "      <th>Cooling_Load</th>\n",
       "    </tr>\n",
       "  </thead>\n",
       "  <tbody>\n",
       "    <tr>\n",
       "      <th>0</th>\n",
       "      <td>0.98</td>\n",
       "      <td>514.5</td>\n",
       "      <td>294.0</td>\n",
       "      <td>110.25</td>\n",
       "      <td>7.0</td>\n",
       "      <td>2</td>\n",
       "      <td>0.0</td>\n",
       "      <td>0</td>\n",
       "      <td>15.55</td>\n",
       "      <td>21.33</td>\n",
       "    </tr>\n",
       "    <tr>\n",
       "      <th>1</th>\n",
       "      <td>0.98</td>\n",
       "      <td>514.5</td>\n",
       "      <td>294.0</td>\n",
       "      <td>110.25</td>\n",
       "      <td>7.0</td>\n",
       "      <td>3</td>\n",
       "      <td>0.0</td>\n",
       "      <td>0</td>\n",
       "      <td>15.55</td>\n",
       "      <td>21.33</td>\n",
       "    </tr>\n",
       "    <tr>\n",
       "      <th>2</th>\n",
       "      <td>0.98</td>\n",
       "      <td>514.5</td>\n",
       "      <td>294.0</td>\n",
       "      <td>110.25</td>\n",
       "      <td>7.0</td>\n",
       "      <td>4</td>\n",
       "      <td>0.0</td>\n",
       "      <td>0</td>\n",
       "      <td>15.55</td>\n",
       "      <td>21.33</td>\n",
       "    </tr>\n",
       "    <tr>\n",
       "      <th>3</th>\n",
       "      <td>0.98</td>\n",
       "      <td>514.5</td>\n",
       "      <td>294.0</td>\n",
       "      <td>110.25</td>\n",
       "      <td>7.0</td>\n",
       "      <td>5</td>\n",
       "      <td>0.0</td>\n",
       "      <td>0</td>\n",
       "      <td>15.55</td>\n",
       "      <td>21.33</td>\n",
       "    </tr>\n",
       "    <tr>\n",
       "      <th>4</th>\n",
       "      <td>0.90</td>\n",
       "      <td>563.5</td>\n",
       "      <td>318.5</td>\n",
       "      <td>122.50</td>\n",
       "      <td>7.0</td>\n",
       "      <td>2</td>\n",
       "      <td>0.0</td>\n",
       "      <td>0</td>\n",
       "      <td>20.84</td>\n",
       "      <td>28.28</td>\n",
       "    </tr>\n",
       "  </tbody>\n",
       "</table>\n",
       "</div>"
      ],
      "text/plain": [
       "   Relative_Compactness  Surface_Area  Wall_Area  Roof_Area  Overall_Height  \\\n",
       "0                  0.98         514.5      294.0     110.25             7.0   \n",
       "1                  0.98         514.5      294.0     110.25             7.0   \n",
       "2                  0.98         514.5      294.0     110.25             7.0   \n",
       "3                  0.98         514.5      294.0     110.25             7.0   \n",
       "4                  0.90         563.5      318.5     122.50             7.0   \n",
       "\n",
       "   Orientation  Glazing_Area  Glazing_Area_Distribution  Heating_Load  \\\n",
       "0            2           0.0                          0         15.55   \n",
       "1            3           0.0                          0         15.55   \n",
       "2            4           0.0                          0         15.55   \n",
       "3            5           0.0                          0         15.55   \n",
       "4            2           0.0                          0         20.84   \n",
       "\n",
       "   Cooling_Load  \n",
       "0         21.33  \n",
       "1         21.33  \n",
       "2         21.33  \n",
       "3         21.33  \n",
       "4         28.28  "
      ]
     },
     "execution_count": 6,
     "metadata": {},
     "output_type": "execute_result"
    }
   ],
   "source": [
    "df.head()"
   ]
  },
  {
   "cell_type": "code",
   "execution_count": 64,
   "metadata": {},
   "outputs": [
    {
     "data": {
      "text/plain": [
       "<matplotlib.axes._subplots.AxesSubplot at 0x7fb89778b7b8>"
      ]
     },
     "execution_count": 64,
     "metadata": {},
     "output_type": "execute_result"
    },
    {
     "data": {
      "image/png": "[encoded data removed]",
      "text/plain": [
       "<matplotlib.figure.Figure at 0x7fb897720470>"
      ]
     },
     "metadata": {
      "needs_background": "light"
     },
     "output_type": "display_data"
    }
   ],
   "source": [
    "# select a sample of the dataset\n",
    "simple_linear_reg_df = df[['Relative_Compactness', 'Cooling_Load']]\\\n",
    "                       .sample(15)#, random_state=2)\n",
    "#regression plot\n",
    "sns.regplot(x=\"Relative_Compactness\", y=\"Cooling_Load\",\n",
    "            data=simple_linear_reg_df)"
   ]
  },
  {
   "cell_type": "markdown",
   "metadata": {},
   "source": [
    "# LETS DO A QUICK EDA"
   ]
  },
  {
   "cell_type": "code",
   "execution_count": 66,
   "metadata": {
    "collapsed": true
   },
   "outputs": [
    {
     "name": "stdout",
     "output_type": "stream",
     "text": [
      "Relative_Compactness             12 unique records\n",
      "                                 0 missing data\n",
      "------------------------------------------------------------\n",
      "Surface_Area                     12 unique records\n",
      "                                 0 missing data\n",
      "------------------------------------------------------------\n",
      "Wall_Area                        7 unique records\n",
      "                                 0 missing data\n",
      "------------------------------------------------------------\n",
      "Roof_Area                        4 unique records\n",
      "                                 0 missing data\n",
      "------------------------------------------------------------\n",
      "Overall_Height                   2 unique records\n",
      "                                 0 missing data\n",
      "------------------------------------------------------------\n",
      "Orientation                      4 unique records\n",
      "                                 0 missing data\n",
      "------------------------------------------------------------\n",
      "Glazing_Area                     4 unique records\n",
      "                                 0 missing data\n",
      "------------------------------------------------------------\n",
      "Glazing_Area_Distribution        6 unique records\n",
      "                                 0 missing data\n",
      "------------------------------------------------------------\n",
      "Heating_Load                     587 unique records\n",
      "                                 0 missing data\n",
      "------------------------------------------------------------\n",
      "Cooling_Load                     636 unique records\n",
      "                                 0 missing data\n",
      "------------------------------------------------------------\n"
     ]
    }
   ],
   "source": [
    "# Unique records, Missing data\n",
    "for column in df.columns:\n",
    "    input_ = df[column].unique()\n",
    "    if (df[column].dtype == np.object) and (input_.size <= 10):\n",
    "        print(\"{:<32s}\".format(column), input_)\n",
    "#         print(\"test\".rjust(37), '\\n')\n",
    "    else:\n",
    "        input_ = str(input_.size) + \" unique records\"\n",
    "        print(\"{:<32s}\".format(column), input_)\n",
    "    print(\"{:>32s}\".format(' '),df[column].isnull().sum(), \"missing data\")\n",
    "    print('-'*60)"
   ]
  },
  {
   "cell_type": "code",
   "execution_count": 78,
   "metadata": {},
   "outputs": [
    {
     "data": {
      "text/plain": [
       "4"
      ]
     },
     "execution_count": 78,
     "metadata": {},
     "output_type": "execute_result"
    }
   ],
   "source": [
    "df.Roof_Area.unique().size"
   ]
  },
  {
   "cell_type": "code",
   "execution_count": 69,
   "metadata": {},
   "outputs": [
    {
     "name": "stdout",
     "output_type": "stream",
     "text": [
      "There are 0 duplicated records\n"
     ]
    }
   ],
   "source": [
    "print(\"There are\", df.duplicated().sum(), \"duplicated records\")"
   ]
  },
  {
   "cell_type": "code",
   "execution_count": 75,
   "metadata": {},
   "outputs": [],
   "source": [
    "def range_category(column):\n",
    "    input_ = df[column]\n",
    "    if input_.dtype == np.object:\n",
    "        if input_.unique().size <=10:\n",
    "            output = ','.join(map(str, input_.unique()))\n",
    "        else:\n",
    "            output = f\"{input_.unique().size:,} unique records\"\n",
    "        return output\n",
    "    \n",
    "    else:\n",
    "        min_ = df[column].min()\n",
    "        max_ = df[column].max()\n",
    "        range_ = max_ - min_\n",
    "        output = f\"{min_:,.1f} -- {max_:,.1f} ({range_:,.1f})\"\n",
    "        return output"
   ]
  },
  {
   "cell_type": "code",
   "execution_count": 82,
   "metadata": {
    "scrolled": true
   },
   "outputs": [
    {
     "data": {
      "text/html": [
       "<div>\n",
       "<style scoped>\n",
       "    .dataframe tbody tr th:only-of-type {\n",
       "        vertical-align: middle;\n",
       "    }\n",
       "\n",
       "    .dataframe tbody tr th {\n",
       "        vertical-align: top;\n",
       "    }\n",
       "\n",
       "    .dataframe thead th {\n",
       "        text-align: right;\n",
       "    }\n",
       "</style>\n",
       "<table border=\"1\" class=\"dataframe\">\n",
       "  <thead>\n",
       "    <tr style=\"text-align: right;\">\n",
       "      <th></th>\n",
       "      <th>Data type</th>\n",
       "      <th>range</th>\n",
       "      <th>unique values</th>\n",
       "    </tr>\n",
       "  </thead>\n",
       "  <tbody>\n",
       "    <tr>\n",
       "      <th>Relative_Compactness</th>\n",
       "      <td>float64</td>\n",
       "      <td>0.6 -- 1.0 (0.4)</td>\n",
       "      <td>12</td>\n",
       "    </tr>\n",
       "    <tr>\n",
       "      <th>Surface_Area</th>\n",
       "      <td>float64</td>\n",
       "      <td>514.5 -- 808.5 (294.0)</td>\n",
       "      <td>12</td>\n",
       "    </tr>\n",
       "    <tr>\n",
       "      <th>Wall_Area</th>\n",
       "      <td>float64</td>\n",
       "      <td>245.0 -- 416.5 (171.5)</td>\n",
       "      <td>7</td>\n",
       "    </tr>\n",
       "    <tr>\n",
       "      <th>Roof_Area</th>\n",
       "      <td>float64</td>\n",
       "      <td>110.2 -- 220.5 (110.2)</td>\n",
       "      <td>4</td>\n",
       "    </tr>\n",
       "    <tr>\n",
       "      <th>Overall_Height</th>\n",
       "      <td>float64</td>\n",
       "      <td>3.5 -- 7.0 (3.5)</td>\n",
       "      <td>2</td>\n",
       "    </tr>\n",
       "    <tr>\n",
       "      <th>Orientation</th>\n",
       "      <td>int64</td>\n",
       "      <td>2.0 -- 5.0 (3.0)</td>\n",
       "      <td>4</td>\n",
       "    </tr>\n",
       "    <tr>\n",
       "      <th>Glazing_Area</th>\n",
       "      <td>float64</td>\n",
       "      <td>0.0 -- 0.4 (0.4)</td>\n",
       "      <td>4</td>\n",
       "    </tr>\n",
       "    <tr>\n",
       "      <th>Glazing_Area_Distribution</th>\n",
       "      <td>int64</td>\n",
       "      <td>0.0 -- 5.0 (5.0)</td>\n",
       "      <td>6</td>\n",
       "    </tr>\n",
       "    <tr>\n",
       "      <th>Heating_Load</th>\n",
       "      <td>float64</td>\n",
       "      <td>6.0 -- 43.1 (37.1)</td>\n",
       "      <td>587</td>\n",
       "    </tr>\n",
       "    <tr>\n",
       "      <th>Cooling_Load</th>\n",
       "      <td>float64</td>\n",
       "      <td>10.9 -- 48.0 (37.1)</td>\n",
       "      <td>636</td>\n",
       "    </tr>\n",
       "  </tbody>\n",
       "</table>\n",
       "</div>"
      ],
      "text/plain": [
       "                          Data type                   range  unique values\n",
       "Relative_Compactness        float64        0.6 -- 1.0 (0.4)             12\n",
       "Surface_Area                float64  514.5 -- 808.5 (294.0)             12\n",
       "Wall_Area                   float64  245.0 -- 416.5 (171.5)              7\n",
       "Roof_Area                   float64  110.2 -- 220.5 (110.2)              4\n",
       "Overall_Height              float64        3.5 -- 7.0 (3.5)              2\n",
       "Orientation                   int64        2.0 -- 5.0 (3.0)              4\n",
       "Glazing_Area                float64        0.0 -- 0.4 (0.4)              4\n",
       "Glazing_Area_Distribution     int64        0.0 -- 5.0 (5.0)              6\n",
       "Heating_Load                float64      6.0 -- 43.1 (37.1)            587\n",
       "Cooling_Load                float64     10.9 -- 48.0 (37.1)            636"
      ]
     },
     "execution_count": 82,
     "metadata": {},
     "output_type": "execute_result"
    }
   ],
   "source": [
    "data_types = df.dtypes.to_frame().rename(columns={0:\"Data type\"})\n",
    "data_types['range'] = [range_category(column) for \n",
    "                                  column in df.columns]\n",
    "data_types['unique values'] = [df[column].unique().size for column in df.columns]\n",
    "data_types"
   ]
  },
  {
   "cell_type": "code",
   "execution_count": 83,
   "metadata": {},
   "outputs": [],
   "source": [
    "def y_index(col, func, group):\n",
    "    y_index = fuel_data.groupby(group)[col].apply(func).sort_values().index\n",
    "\n",
    "    return y_index"
   ]
  },
  {
   "cell_type": "code",
   "execution_count": null,
   "metadata": {},
   "outputs": [],
   "source": []
  }
 ],
 "metadata": {
  "kernelspec": {
   "display_name": "Python 3",
   "language": "python",
   "name": "python3"
  },
  "language_info": {
   "codemirror_mode": {
    "name": "ipython",
    "version": 3
   },
   "file_extension": ".py",
   "mimetype": "text/x-python",
   "name": "python",
   "nbconvert_exporter": "python",
   "pygments_lexer": "ipython3",
   "version": "3.6.9"
  }
 },
 "nbformat": 4,
 "nbformat_minor": 2
}
